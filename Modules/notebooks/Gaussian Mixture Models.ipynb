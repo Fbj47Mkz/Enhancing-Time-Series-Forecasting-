{
 "cells": [
  {
   "cell_type": "code",
   "execution_count": 1,
   "id": "a3950212-24ac-4721-88d7-beae41599d2a",
   "metadata": {},
   "outputs": [
    {
     "name": "stdout",
     "output_type": "stream",
     "text": [
      "Torch version: 2.6.0\n"
     ]
    }
   ],
   "source": [
    "import numpy as np\n",
    "import pandas as pd\n",
    "import matplotlib.pyplot as plt\n",
    "import seaborn as sns\n",
    "import warnings\n",
    "import pickle\n",
    "import torch\n",
    "print(\"Torch version:\", torch.__version__)\n",
    "\n",
    "from pytorch_forecasting import Baseline, TemporalFusionTransformer, TimeSeriesDataSet\n",
    "from pytorch_forecasting.data import NaNLabelEncoder, GroupNormalizer\n",
    "from pytorch_forecasting.metrics import MAE, SMAPE, PoissonLoss, QuantileLoss\n",
    "\n",
    "from pytorch_forecasting.models.temporal_fusion_transformer.tuning import optimize_hyperparameters\n",
    "from torch.utils.data import Dataset, DataLoader\n",
    "\n",
    "import sys\n",
    "import os"
   ]
  },
  {
   "cell_type": "markdown",
   "id": "a9ea64a7-df41-4e63-b873-340cdd04784c",
   "metadata": {},
   "source": [
    "# Load Data"
   ]
  },
  {
   "cell_type": "code",
   "execution_count": 3,
   "id": "c3cd773b-14a2-4dd8-8a1a-2cc3c917cdcb",
   "metadata": {},
   "outputs": [],
   "source": [
    "# 📍 sys.path\n",
    "sys.path.append(os.path.abspath(os.path.join(os.getcwd(), \"..\", \"Sources\")))\n",
    "\n",
    "# 📥 Import load fonction\n",
    "from data_loader import load_data"
   ]
  },
  {
   "cell_type": "markdown",
   "id": "ddf71cdf-1e03-47f1-84f0-e20a7ffc3a59",
   "metadata": {},
   "source": [
    "#### ✅ Raw Data"
   ]
  },
  {
   "cell_type": "code",
   "execution_count": 5,
   "id": "1fb1b7f0-155e-428c-a853-af45ea8778ff",
   "metadata": {},
   "outputs": [
    {
     "name": "stdout",
     "output_type": "stream",
     "text": [
      "✅ Load File : /Users/juniormukenze/Documents/00 Personal Research Publication/Research Paper 1/Enhancing Time Series Forecasting with VAE-based Data Augmentation and Temporal Pattern Analysis using Neural Networks/Modules/data/raw/Com_Copper.csv  |  Separator detected: ';'\n",
      "    Symbol       Date    Open    High     Low   Close\n",
      "0  HG1:COM 2024-08-19  4.1500  4.2005  4.1415  4.1805\n",
      "1  HG1:COM 2024-08-16  4.1425  4.1635  4.0950  4.1435\n"
     ]
    }
   ],
   "source": [
    "df_Copper_Original = load_data('raw', 'Com_Copper.csv')\n",
    "\n",
    "# 🕒 'Date'in datetime\n",
    "df_Copper_Original['Date'] = pd.to_datetime(df_Copper_Original['Date'], format='%d/%m/%Y')\n",
    "\n",
    "# 🔍 vieuw\n",
    "print(df_Copper_Original.head(2))"
   ]
  },
  {
   "cell_type": "markdown",
   "id": "f7c48ee2-52d8-4074-ae65-ecb19bc30ed2",
   "metadata": {},
   "source": [
    "#### ✅ Generated Data"
   ]
  },
  {
   "cell_type": "code",
   "execution_count": 7,
   "id": "11065bb3-e76f-4d92-a12a-df6d6c4712dc",
   "metadata": {},
   "outputs": [
    {
     "name": "stdout",
     "output_type": "stream",
     "text": [
      "✅ Load File : /Users/juniormukenze/Documents/00 Personal Research Publication/Research Paper 1/Enhancing Time Series Forecasting with VAE-based Data Augmentation and Temporal Pattern Analysis using Neural Networks/Modules/data/generated/SynBilstmVAE.csv  |  Separator detected: ','\n",
      "         Date      Open      High       Low     Close  Date_from_start  \\\n",
      "0  2024-08-19  2.500406  2.522122  2.481915  2.502785           4165.0   \n",
      "1  2024-08-16  2.499700  2.522045  2.480236  2.502988           4162.0   \n",
      "\n",
      "   day_of_week  month group_id  \n",
      "0          0.0    8.0      Syn  \n",
      "1          4.0    8.0      Syn  \n"
     ]
    }
   ],
   "source": [
    "df_bilstmVAE = load_data('generated', 'SynBilstmVAE.csv')\n",
    "\n",
    "# 🕒 'Date'in datetime\n",
    "#df_bilstmVAE['Date'] = pd.to_datetime(df_bilstmVAE['Date'], format='%d/%m/%Y')\n",
    "\n",
    "# 🔍 vieuw\n",
    "print(df_bilstmVAE.head(2))"
   ]
  },
  {
   "cell_type": "markdown",
   "id": "e30139d4-c4e0-41fd-a1ca-f40e2eb033db",
   "metadata": {},
   "source": [
    "# Preprocessing"
   ]
  },
  {
   "cell_type": "markdown",
   "id": "6ec062c7-3bc6-48b4-8603-1a779235c491",
   "metadata": {},
   "source": [
    "#### ✅ Raw Data"
   ]
  },
  {
   "cell_type": "code",
   "execution_count": 10,
   "id": "02950269-22e3-421e-b767-556c3806430f",
   "metadata": {},
   "outputs": [
    {
     "data": {
      "text/html": [
       "<div>\n",
       "<style scoped>\n",
       "    .dataframe tbody tr th:only-of-type {\n",
       "        vertical-align: middle;\n",
       "    }\n",
       "\n",
       "    .dataframe tbody tr th {\n",
       "        vertical-align: top;\n",
       "    }\n",
       "\n",
       "    .dataframe thead th {\n",
       "        text-align: right;\n",
       "    }\n",
       "</style>\n",
       "<table border=\"1\" class=\"dataframe\">\n",
       "  <thead>\n",
       "    <tr style=\"text-align: right;\">\n",
       "      <th></th>\n",
       "      <th>Date</th>\n",
       "      <th>Open</th>\n",
       "      <th>High</th>\n",
       "      <th>Low</th>\n",
       "      <th>Close</th>\n",
       "      <th>Date_from_start</th>\n",
       "      <th>day_of_week</th>\n",
       "      <th>month</th>\n",
       "      <th>group_id</th>\n",
       "    </tr>\n",
       "  </thead>\n",
       "  <tbody>\n",
       "    <tr>\n",
       "      <th>2833</th>\n",
       "      <td>2013-03-25</td>\n",
       "      <td>3.4705</td>\n",
       "      <td>3.4710</td>\n",
       "      <td>3.430</td>\n",
       "      <td>3.435</td>\n",
       "      <td>0</td>\n",
       "      <td>0</td>\n",
       "      <td>3</td>\n",
       "      <td>Orig</td>\n",
       "    </tr>\n",
       "    <tr>\n",
       "      <th>2832</th>\n",
       "      <td>2013-03-27</td>\n",
       "      <td>3.4345</td>\n",
       "      <td>3.4495</td>\n",
       "      <td>3.416</td>\n",
       "      <td>3.435</td>\n",
       "      <td>2</td>\n",
       "      <td>2</td>\n",
       "      <td>3</td>\n",
       "      <td>Orig</td>\n",
       "    </tr>\n",
       "  </tbody>\n",
       "</table>\n",
       "</div>"
      ],
      "text/plain": [
       "           Date    Open    High    Low  Close  Date_from_start  day_of_week  \\\n",
       "2833 2013-03-25  3.4705  3.4710  3.430  3.435                0            0   \n",
       "2832 2013-03-27  3.4345  3.4495  3.416  3.435                2            2   \n",
       "\n",
       "      month group_id  \n",
       "2833      3     Orig  \n",
       "2832      3     Orig  "
      ]
     },
     "execution_count": 10,
     "metadata": {},
     "output_type": "execute_result"
    }
   ],
   "source": [
    "## Extrat dates\n",
    "copper_dates = df_Copper_Original['Date'].reset_index(drop=True).copy()\n",
    "\n",
    "df_Copper_Original['Date'] = pd.to_datetime(df_Copper_Original['Date'], format='%d/%m/%Y')\n",
    "df_Copper_Original = df_Copper_Original.drop([\"Symbol\"], axis=1)\n",
    "df_Copper_Original.sort_values('Date', ascending=True, inplace=True)\n",
    "\n",
    "## Create time_idx using dates\n",
    "df_Copper_Original['Date_from_start'] = (df_Copper_Original['Date'] - df_Copper_Original['Date'].min()).dt.days\n",
    "\n",
    "# Create 'day_of_week' (0 = Monday, 6 = Sunday)\n",
    "df_Copper_Original['day_of_week'] = df_Copper_Original['Date'].dt.dayofweek\n",
    "\n",
    "# Generate 'month' (1 = janvier, 12 = décembre)\n",
    "df_Copper_Original['month'] = df_Copper_Original['Date'].dt.month\n",
    "df_Copper_Original[\"group_id\"] = \"Orig\"\n",
    "\n",
    "df_Copper_Original.head(2)"
   ]
  },
  {
   "cell_type": "code",
   "execution_count": 16,
   "id": "50a5c4d2-9c48-454a-a307-dbd4b345f7c0",
   "metadata": {},
   "outputs": [
    {
     "data": {
      "text/plain": [
       "(2834, 9)"
      ]
     },
     "execution_count": 16,
     "metadata": {},
     "output_type": "execute_result"
    }
   ],
   "source": [
    "df_Copper_Original.shape"
   ]
  },
  {
   "cell_type": "markdown",
   "id": "bbf71d00-acb7-4bf5-bce5-d0e48192010f",
   "metadata": {},
   "source": [
    "#### ✅ Generated Data"
   ]
  },
  {
   "cell_type": "code",
   "execution_count": 19,
   "id": "3d735058-d5ba-4e72-8302-2e9939eacb7b",
   "metadata": {},
   "outputs": [
    {
     "data": {
      "text/html": [
       "<div>\n",
       "<style scoped>\n",
       "    .dataframe tbody tr th:only-of-type {\n",
       "        vertical-align: middle;\n",
       "    }\n",
       "\n",
       "    .dataframe tbody tr th {\n",
       "        vertical-align: top;\n",
       "    }\n",
       "\n",
       "    .dataframe thead th {\n",
       "        text-align: right;\n",
       "    }\n",
       "</style>\n",
       "<table border=\"1\" class=\"dataframe\">\n",
       "  <thead>\n",
       "    <tr style=\"text-align: right;\">\n",
       "      <th></th>\n",
       "      <th>Date</th>\n",
       "      <th>Open</th>\n",
       "      <th>High</th>\n",
       "      <th>Low</th>\n",
       "      <th>Close</th>\n",
       "      <th>Date_from_start</th>\n",
       "      <th>day_of_week</th>\n",
       "      <th>month</th>\n",
       "      <th>group_id</th>\n",
       "    </tr>\n",
       "  </thead>\n",
       "  <tbody>\n",
       "    <tr>\n",
       "      <th>2833</th>\n",
       "      <td>2013-03-25</td>\n",
       "      <td>2.560470</td>\n",
       "      <td>2.581697</td>\n",
       "      <td>2.540563</td>\n",
       "      <td>2.560866</td>\n",
       "      <td>0.0</td>\n",
       "      <td>0.0</td>\n",
       "      <td>3.0</td>\n",
       "      <td>Syn</td>\n",
       "    </tr>\n",
       "    <tr>\n",
       "      <th>2832</th>\n",
       "      <td>2013-03-27</td>\n",
       "      <td>2.560351</td>\n",
       "      <td>2.577872</td>\n",
       "      <td>2.540430</td>\n",
       "      <td>2.560783</td>\n",
       "      <td>2.0</td>\n",
       "      <td>2.0</td>\n",
       "      <td>3.0</td>\n",
       "      <td>Syn</td>\n",
       "    </tr>\n",
       "  </tbody>\n",
       "</table>\n",
       "</div>"
      ],
      "text/plain": [
       "            Date      Open      High       Low     Close  Date_from_start  \\\n",
       "2833  2013-03-25  2.560470  2.581697  2.540563  2.560866              0.0   \n",
       "2832  2013-03-27  2.560351  2.577872  2.540430  2.560783              2.0   \n",
       "\n",
       "      day_of_week  month group_id  \n",
       "2833          0.0    3.0      Syn  \n",
       "2832          2.0    3.0      Syn  "
      ]
     },
     "execution_count": 19,
     "metadata": {},
     "output_type": "execute_result"
    }
   ],
   "source": [
    "# Sort Data by Date \n",
    "df_bilstmVAE.sort_values('Date', ascending=True, inplace=True)\n",
    "df_bilstmVAE.head(2)"
   ]
  },
  {
   "cell_type": "code",
   "execution_count": 21,
   "id": "068cd732-4bfc-4a48-a2d7-213572aaa0b7",
   "metadata": {},
   "outputs": [
    {
     "data": {
      "text/plain": [
       "((2834, 9), (2834, 9))"
      ]
     },
     "execution_count": 21,
     "metadata": {},
     "output_type": "execute_result"
    }
   ],
   "source": [
    "# Check Shape\n",
    "df_bilstmVAE.shape, df_Copper_Original.shape"
   ]
  },
  {
   "cell_type": "code",
   "execution_count": 23,
   "id": "b7229501-33f4-4c97-ad3f-8a8571eb5105",
   "metadata": {},
   "outputs": [
    {
     "name": "stdout",
     "output_type": "stream",
     "text": [
      "<class 'pandas.core.frame.DataFrame'>\n",
      "<class 'pandas.core.frame.DataFrame'>\n"
     ]
    }
   ],
   "source": [
    "print(type(df_Copper_Original))\n",
    "print(type(df_bilstmVAE))"
   ]
  },
  {
   "cell_type": "markdown",
   "id": "d2cbebfb-a342-400b-b37c-f344543fafe6",
   "metadata": {},
   "source": [
    "## 1. GMM without Mixture of Data Augmented"
   ]
  },
  {
   "cell_type": "code",
   "execution_count": 26,
   "id": "9e39f45c-1fb8-4f64-bae0-9ffff4ccde8c",
   "metadata": {},
   "outputs": [
    {
     "data": {
      "text/plain": [
       "(2834, 10)"
      ]
     },
     "execution_count": 26,
     "metadata": {},
     "output_type": "execute_result"
    }
   ],
   "source": [
    "# Time Features \n",
    "Copper_Data = df_Copper_Original.copy()\n",
    "\n",
    "Copper_Data['Date'] = pd.to_datetime(Copper_Data['Date'])\n",
    "\n",
    "Copper_Data.drop(columns=['Date_from_start','day_of_week','month'], inplace=True)\n",
    "Copper_Data['year'] = Copper_Data['Date'].dt.year\n",
    "Copper_Data['month'] = Copper_Data['Date'].dt.month\n",
    "Copper_Data['day'] = Copper_Data['Date'].dt.day\n",
    "Copper_Data['weekday'] = Copper_Data['Date'].dt.weekday\n",
    "\n",
    "Copper_Data.shape"
   ]
  },
  {
   "cell_type": "code",
   "execution_count": 28,
   "id": "1c1f4cf3-51ff-4c18-84b2-df2794813f08",
   "metadata": {},
   "outputs": [
    {
     "data": {
      "text/html": [
       "<div>\n",
       "<style scoped>\n",
       "    .dataframe tbody tr th:only-of-type {\n",
       "        vertical-align: middle;\n",
       "    }\n",
       "\n",
       "    .dataframe tbody tr th {\n",
       "        vertical-align: top;\n",
       "    }\n",
       "\n",
       "    .dataframe thead th {\n",
       "        text-align: right;\n",
       "    }\n",
       "</style>\n",
       "<table border=\"1\" class=\"dataframe\">\n",
       "  <thead>\n",
       "    <tr style=\"text-align: right;\">\n",
       "      <th></th>\n",
       "      <th>Date</th>\n",
       "      <th>Open</th>\n",
       "      <th>High</th>\n",
       "      <th>Low</th>\n",
       "      <th>Close</th>\n",
       "      <th>group_id</th>\n",
       "      <th>year</th>\n",
       "      <th>month</th>\n",
       "      <th>day</th>\n",
       "      <th>weekday</th>\n",
       "    </tr>\n",
       "  </thead>\n",
       "  <tbody>\n",
       "    <tr>\n",
       "      <th>2833</th>\n",
       "      <td>2013-03-25</td>\n",
       "      <td>3.4705</td>\n",
       "      <td>3.4710</td>\n",
       "      <td>3.430</td>\n",
       "      <td>3.435</td>\n",
       "      <td>Orig</td>\n",
       "      <td>2013</td>\n",
       "      <td>3</td>\n",
       "      <td>25</td>\n",
       "      <td>0</td>\n",
       "    </tr>\n",
       "    <tr>\n",
       "      <th>2832</th>\n",
       "      <td>2013-03-27</td>\n",
       "      <td>3.4345</td>\n",
       "      <td>3.4495</td>\n",
       "      <td>3.416</td>\n",
       "      <td>3.435</td>\n",
       "      <td>Orig</td>\n",
       "      <td>2013</td>\n",
       "      <td>3</td>\n",
       "      <td>27</td>\n",
       "      <td>2</td>\n",
       "    </tr>\n",
       "  </tbody>\n",
       "</table>\n",
       "</div>"
      ],
      "text/plain": [
       "           Date    Open    High    Low  Close group_id  year  month  day  \\\n",
       "2833 2013-03-25  3.4705  3.4710  3.430  3.435     Orig  2013      3   25   \n",
       "2832 2013-03-27  3.4345  3.4495  3.416  3.435     Orig  2013      3   27   \n",
       "\n",
       "      weekday  \n",
       "2833        0  \n",
       "2832        2  "
      ]
     },
     "execution_count": 28,
     "metadata": {},
     "output_type": "execute_result"
    }
   ],
   "source": [
    "Copper_Data.head(2)"
   ]
  },
  {
   "cell_type": "markdown",
   "id": "9f917519-6e96-4f03-9d4c-35a7966616e3",
   "metadata": {},
   "source": [
    "### 1.1. Normalization and Standardization"
   ]
  },
  {
   "cell_type": "code",
   "execution_count": 31,
   "id": "88947bf5-eb59-4b9c-9272-0f983e1e3085",
   "metadata": {},
   "outputs": [],
   "source": [
    "import pandas as pd\n",
    "from sklearn.preprocessing import LabelEncoder, StandardScaler\n",
    "\n",
    "# 1. Encoding  'group_id' into numeric\n",
    "label_encoder1 = LabelEncoder()\n",
    "Copper_Data['group_id'] = label_encoder1.fit_transform(Copper_Data['group_id'])\n"
   ]
  },
  {
   "cell_type": "code",
   "execution_count": 33,
   "id": "7b0223c5-62d8-47fd-8d6e-6a1784f5064f",
   "metadata": {},
   "outputs": [],
   "source": [
    "# 2. Normalization of 'Open', 'High', 'Low', 'Close'\n",
    "scaler1 = StandardScaler()\n",
    "columns_to_normalize = ['Open', 'High', 'Low', 'Close']\n",
    "Copper_Data[columns_to_normalize] = scaler1.fit_transform(Copper_Data[columns_to_normalize])"
   ]
  },
  {
   "cell_type": "code",
   "execution_count": 35,
   "id": "458eb9cb-b95c-459b-891e-63793faac6f5",
   "metadata": {},
   "outputs": [
    {
     "data": {
      "text/html": [
       "<div>\n",
       "<style scoped>\n",
       "    .dataframe tbody tr th:only-of-type {\n",
       "        vertical-align: middle;\n",
       "    }\n",
       "\n",
       "    .dataframe tbody tr th {\n",
       "        vertical-align: top;\n",
       "    }\n",
       "\n",
       "    .dataframe thead th {\n",
       "        text-align: right;\n",
       "    }\n",
       "</style>\n",
       "<table border=\"1\" class=\"dataframe\">\n",
       "  <thead>\n",
       "    <tr style=\"text-align: right;\">\n",
       "      <th></th>\n",
       "      <th>Open</th>\n",
       "      <th>High</th>\n",
       "      <th>Low</th>\n",
       "      <th>Close</th>\n",
       "      <th>group_id</th>\n",
       "      <th>year</th>\n",
       "      <th>month</th>\n",
       "      <th>day</th>\n",
       "      <th>weekday</th>\n",
       "    </tr>\n",
       "  </thead>\n",
       "  <tbody>\n",
       "    <tr>\n",
       "      <th>2833</th>\n",
       "      <td>0.375645</td>\n",
       "      <td>0.334328</td>\n",
       "      <td>0.362572</td>\n",
       "      <td>0.325786</td>\n",
       "      <td>0</td>\n",
       "      <td>2013</td>\n",
       "      <td>3</td>\n",
       "      <td>25</td>\n",
       "      <td>0</td>\n",
       "    </tr>\n",
       "    <tr>\n",
       "      <th>2832</th>\n",
       "      <td>0.324968</td>\n",
       "      <td>0.304504</td>\n",
       "      <td>0.342561</td>\n",
       "      <td>0.325786</td>\n",
       "      <td>0</td>\n",
       "      <td>2013</td>\n",
       "      <td>3</td>\n",
       "      <td>27</td>\n",
       "      <td>2</td>\n",
       "    </tr>\n",
       "  </tbody>\n",
       "</table>\n",
       "</div>"
      ],
      "text/plain": [
       "          Open      High       Low     Close  group_id  year  month  day  \\\n",
       "2833  0.375645  0.334328  0.362572  0.325786         0  2013      3   25   \n",
       "2832  0.324968  0.304504  0.342561  0.325786         0  2013      3   27   \n",
       "\n",
       "      weekday  \n",
       "2833        0  \n",
       "2832        2  "
      ]
     },
     "execution_count": 35,
     "metadata": {},
     "output_type": "execute_result"
    }
   ],
   "source": [
    "Copper_Data.drop(columns=['Date'], inplace=True)\n",
    "Copper_Data.head(2)"
   ]
  },
  {
   "cell_type": "code",
   "execution_count": 37,
   "id": "e705ab31-9564-41f7-aeec-b913d73c14ed",
   "metadata": {},
   "outputs": [
    {
     "data": {
      "text/plain": [
       "(2834, 9)"
      ]
     },
     "execution_count": 37,
     "metadata": {},
     "output_type": "execute_result"
    }
   ],
   "source": [
    "Copper_Data.shape"
   ]
  },
  {
   "cell_type": "code",
   "execution_count": null,
   "id": "06e52e7c-1a12-40d4-a95f-4f1d42a81697",
   "metadata": {},
   "outputs": [],
   "source": []
  },
  {
   "cell_type": "markdown",
   "id": "219723e8-231f-4f87-a6db-b36d90d56241",
   "metadata": {},
   "source": [
    "# GMM Final - Data Augmented"
   ]
  },
  {
   "cell_type": "markdown",
   "id": "66a617e1-a62a-44d8-81b9-7f3b23669eea",
   "metadata": {},
   "source": [
    "### 2.1. Mixture of Data Augmented"
   ]
  },
  {
   "cell_type": "code",
   "execution_count": 42,
   "id": "648e6409-9ec0-4a9a-a956-fea3512e751e",
   "metadata": {},
   "outputs": [
    {
     "data": {
      "text/plain": [
       "(5668, 10)"
      ]
     },
     "execution_count": 42,
     "metadata": {},
     "output_type": "execute_result"
    }
   ],
   "source": [
    "# Concatenation Strategy\n",
    "Data_Mixed = pd.concat([df_Copper_Original, df_bilstmVAE], axis=0)\n",
    "Data_Mixed['Date'] = pd.to_datetime(Data_Mixed['Date'])\n",
    "\n",
    "Data_Mixed.drop(columns=['Date_from_start','day_of_week','month'], inplace=True)\n",
    "Data_Mixed['year'] = Data_Mixed['Date'].dt.year\n",
    "Data_Mixed['month'] = Data_Mixed['Date'].dt.month\n",
    "Data_Mixed['day'] = Data_Mixed['Date'].dt.day\n",
    "Data_Mixed['weekday'] = Data_Mixed['Date'].dt.weekday\n",
    "\n",
    "Data_Mixed.shape"
   ]
  },
  {
   "cell_type": "code",
   "execution_count": 44,
   "id": "c3c0bc92-2984-43c0-bac8-95803cd9c272",
   "metadata": {},
   "outputs": [
    {
     "data": {
      "text/plain": [
       "Date        0\n",
       "Open        0\n",
       "High        0\n",
       "Low         0\n",
       "Close       0\n",
       "group_id    0\n",
       "year        0\n",
       "month       0\n",
       "day         0\n",
       "weekday     0\n",
       "dtype: int64"
      ]
     },
     "execution_count": 44,
     "metadata": {},
     "output_type": "execute_result"
    }
   ],
   "source": [
    "Data_Mixed.isna().sum()"
   ]
  },
  {
   "cell_type": "markdown",
   "id": "8795d34a-0321-4999-a84d-c6a227e9f847",
   "metadata": {},
   "source": [
    "### 2.2. Normalization and Standardization"
   ]
  },
  {
   "cell_type": "code",
   "execution_count": 47,
   "id": "0d1194e9-4ddc-475c-a0a4-b9cb4f971eca",
   "metadata": {},
   "outputs": [],
   "source": [
    "import pandas as pd\n",
    "from sklearn.preprocessing import LabelEncoder, StandardScaler\n",
    "\n",
    "# 1. Encode 'group_id'\n",
    "label_encoder = LabelEncoder()\n",
    "Data_Mixed['group_id'] = label_encoder.fit_transform(Data_Mixed['group_id'])\n",
    "\n",
    "# 2. Normalization of 'Open', 'High', 'Low', 'Close'\n",
    "scaler = StandardScaler()\n",
    "columns_to_normalize = ['Open', 'High', 'Low', 'Close']\n",
    "Data_Mixed[columns_to_normalize] = scaler.fit_transform(Data_Mixed[columns_to_normalize])"
   ]
  },
  {
   "cell_type": "code",
   "execution_count": 49,
   "id": "03275af6-cc28-447c-8995-bfcb714cb401",
   "metadata": {},
   "outputs": [
    {
     "data": {
      "text/plain": [
       "(5668, 10)"
      ]
     },
     "execution_count": 49,
     "metadata": {},
     "output_type": "execute_result"
    }
   ],
   "source": [
    "Data_Mixed.shape"
   ]
  },
  {
   "cell_type": "code",
   "execution_count": 51,
   "id": "9e6416c1-598d-4db6-90af-784b931913c1",
   "metadata": {},
   "outputs": [
    {
     "data": {
      "text/plain": [
       "(5668, 9)"
      ]
     },
     "execution_count": 51,
     "metadata": {},
     "output_type": "execute_result"
    }
   ],
   "source": [
    "# Copy 'Date' \n",
    "date_copy = Data_Mixed['Date'].copy()\n",
    "\n",
    "# Drop 'Date' from DataFrame\n",
    "Data_Mixed.drop(columns=['Date'], inplace=True)\n",
    "Data_Mixed.shape"
   ]
  },
  {
   "cell_type": "code",
   "execution_count": 53,
   "id": "9bf7b45e-526a-40be-bb7e-280efcbf46fb",
   "metadata": {},
   "outputs": [],
   "source": [
    "import pandas as pd\n",
    "from sklearn.mixture import GaussianMixture\n",
    "from sklearn.preprocessing import StandardScaler"
   ]
  },
  {
   "cell_type": "code",
   "execution_count": 54,
   "id": "55111842-f0f1-496e-aa4d-a94fd0da3525",
   "metadata": {},
   "outputs": [
    {
     "data": {
      "image/png": "[encoded data removed]",
      "text/plain": [
       "<Figure size 640x480 with 1 Axes>"
      ]
     },
     "metadata": {},
     "output_type": "display_data"
    }
   ],
   "source": [
    "bic = []\n",
    "aic = []\n",
    "n_components = range(1, 10)\n",
    "\n",
    "for n in n_components:\n",
    "    gmm = GaussianMixture(n_components=n, random_state=42)\n",
    "    gmm.fit(Data_Mixed)\n",
    "    bic.append(gmm.bic(Data_Mixed))\n",
    "    aic.append(gmm.aic(Data_Mixed))\n",
    "\n",
    "plt.plot(n_components, bic, label='BIC')\n",
    "plt.plot(n_components, aic, label='AIC')\n",
    "plt.legend()\n",
    "plt.xlabel(\"Number of components\")\n",
    "plt.ylabel(\"Score\")\n",
    "plt.title(\"Gaussian MM - Optimal nbr-clusters - Augmented Data\")\n",
    "plt.show()\n"
   ]
  },
  {
   "cell_type": "markdown",
   "id": "36388ec4-4b6d-4ad4-93c7-3553ff1f82e4",
   "metadata": {},
   "source": [
    "### GMM Clusters Optimal"
   ]
  },
  {
   "cell_type": "code",
   "execution_count": 57,
   "id": "f35e6e2d-7dbd-4c7b-a94a-69bdce8c0503",
   "metadata": {},
   "outputs": [],
   "source": [
    "gmm = GaussianMixture(n_components=3, covariance_type='full', random_state=42)\n",
    "gmm.fit(Data_Mixed)\n",
    "\n",
    "# Predict Clusters\n",
    "Data_Mixed['Cluster_Label'] = gmm.predict(Data_Mixed)\n"
   ]
  },
  {
   "cell_type": "markdown",
   "id": "a4c3d3ee-e987-4848-b5af-7d15918550a9",
   "metadata": {},
   "source": [
    "### Save Data_Mixed clustered"
   ]
  },
  {
   "cell_type": "code",
   "execution_count": 59,
   "id": "1b948313-99d8-42c2-baeb-0417b0583ae2",
   "metadata": {},
   "outputs": [
    {
     "name": "stdout",
     "output_type": "stream",
     "text": [
      "✅ Dataset exporté avec succès sous : /Users/juniormukenze/Documents/00 Personal Research Publication/Research Paper 1/Enhancing Time Series Forecasting with VAE-based Data Augmentation and Temporal Pattern Analysis using Neural Networks/Modules/data/cluster/Copper_Data_GMMix.csv\n"
     ]
    }
   ],
   "source": [
    "# 🔧 Chemin vers la racine du projet\n",
    "ROOT_DIR = os.path.abspath(os.path.join(os.getcwd(), \"..\"))\n",
    "\n",
    "# 📁 Target Folder\n",
    "EXPORT_DIR = os.path.join(ROOT_DIR, \"data\", \"cluster\")\n",
    "\n",
    "# ✅ Création du dossier s’il n’existe pas\n",
    "os.makedirs(EXPORT_DIR, exist_ok=True)\n",
    "\n",
    "# 📄 Export files path\n",
    "filename = \"Copper_Data_GMMix.csv\"\n",
    "export_path = os.path.join(EXPORT_DIR, filename)\n",
    "\n",
    "# 💾 Export files\n",
    "Data_Mixed.to_csv(export_path, index=False)\n",
    "print(f\"✅ Dataset exporté avec succès sous : {export_path}\")"
   ]
  },
  {
   "cell_type": "code",
   "execution_count": 60,
   "id": "dc96be03-5b71-4b6b-9a3b-e65297ba128d",
   "metadata": {},
   "outputs": [
    {
     "data": {
      "text/html": [
       "<div>\n",
       "<style scoped>\n",
       "    .dataframe tbody tr th:only-of-type {\n",
       "        vertical-align: middle;\n",
       "    }\n",
       "\n",
       "    .dataframe tbody tr th {\n",
       "        vertical-align: top;\n",
       "    }\n",
       "\n",
       "    .dataframe thead th {\n",
       "        text-align: right;\n",
       "    }\n",
       "</style>\n",
       "<table border=\"1\" class=\"dataframe\">\n",
       "  <thead>\n",
       "    <tr style=\"text-align: right;\">\n",
       "      <th></th>\n",
       "      <th>Open</th>\n",
       "      <th>High</th>\n",
       "      <th>Low</th>\n",
       "      <th>Close</th>\n",
       "      <th>group_id</th>\n",
       "      <th>year</th>\n",
       "      <th>month</th>\n",
       "      <th>day</th>\n",
       "      <th>weekday</th>\n",
       "      <th>Cluster_Label</th>\n",
       "    </tr>\n",
       "  </thead>\n",
       "  <tbody>\n",
       "    <tr>\n",
       "      <th>2833</th>\n",
       "      <td>0.393996</td>\n",
       "      <td>0.350258</td>\n",
       "      <td>0.380149</td>\n",
       "      <td>0.340854</td>\n",
       "      <td>0</td>\n",
       "      <td>2013</td>\n",
       "      <td>3</td>\n",
       "      <td>25</td>\n",
       "      <td>0</td>\n",
       "      <td>0</td>\n",
       "    </tr>\n",
       "    <tr>\n",
       "      <th>2832</th>\n",
       "      <td>0.340330</td>\n",
       "      <td>0.318698</td>\n",
       "      <td>0.358946</td>\n",
       "      <td>0.340854</td>\n",
       "      <td>0</td>\n",
       "      <td>2013</td>\n",
       "      <td>3</td>\n",
       "      <td>27</td>\n",
       "      <td>2</td>\n",
       "      <td>0</td>\n",
       "    </tr>\n",
       "  </tbody>\n",
       "</table>\n",
       "</div>"
      ],
      "text/plain": [
       "          Open      High       Low     Close  group_id  year  month  day  \\\n",
       "2833  0.393996  0.350258  0.380149  0.340854         0  2013      3   25   \n",
       "2832  0.340330  0.318698  0.358946  0.340854         0  2013      3   27   \n",
       "\n",
       "      weekday  Cluster_Label  \n",
       "2833        0              0  \n",
       "2832        2              0  "
      ]
     },
     "execution_count": 60,
     "metadata": {},
     "output_type": "execute_result"
    }
   ],
   "source": [
    "Data_Mixed.head(2)"
   ]
  },
  {
   "cell_type": "code",
   "execution_count": 61,
   "id": "1ec34fab-c471-4eeb-92e5-24b5fa861f30",
   "metadata": {},
   "outputs": [
    {
     "data": {
      "text/plain": [
       "array([0, 1, 2])"
      ]
     },
     "execution_count": 61,
     "metadata": {},
     "output_type": "execute_result"
    }
   ],
   "source": [
    "Data_Mixed['Cluster_Label'].unique()"
   ]
  },
  {
   "cell_type": "code",
   "execution_count": null,
   "id": "a6aa2bef-6089-40e5-aa21-a4f25e5de160",
   "metadata": {},
   "outputs": [],
   "source": []
  },
  {
   "cell_type": "markdown",
   "id": "32d2ba62-f611-4171-b17c-6963c482c102",
   "metadata": {},
   "source": [
    "# Gaussian Mixture on Originale Data"
   ]
  },
  {
   "cell_type": "code",
   "execution_count": 69,
   "id": "e4361280-6760-4c73-9260-6fae3f917e08",
   "metadata": {},
   "outputs": [
    {
     "data": {
      "text/html": [
       "<div>\n",
       "<style scoped>\n",
       "    .dataframe tbody tr th:only-of-type {\n",
       "        vertical-align: middle;\n",
       "    }\n",
       "\n",
       "    .dataframe tbody tr th {\n",
       "        vertical-align: top;\n",
       "    }\n",
       "\n",
       "    .dataframe thead th {\n",
       "        text-align: right;\n",
       "    }\n",
       "</style>\n",
       "<table border=\"1\" class=\"dataframe\">\n",
       "  <thead>\n",
       "    <tr style=\"text-align: right;\">\n",
       "      <th></th>\n",
       "      <th>Open</th>\n",
       "      <th>High</th>\n",
       "      <th>Low</th>\n",
       "      <th>Close</th>\n",
       "      <th>group_id</th>\n",
       "      <th>year</th>\n",
       "      <th>month</th>\n",
       "      <th>day</th>\n",
       "      <th>weekday</th>\n",
       "    </tr>\n",
       "  </thead>\n",
       "  <tbody>\n",
       "    <tr>\n",
       "      <th>2833</th>\n",
       "      <td>0.375645</td>\n",
       "      <td>0.334328</td>\n",
       "      <td>0.362572</td>\n",
       "      <td>0.325786</td>\n",
       "      <td>0</td>\n",
       "      <td>2013</td>\n",
       "      <td>3</td>\n",
       "      <td>25</td>\n",
       "      <td>0</td>\n",
       "    </tr>\n",
       "    <tr>\n",
       "      <th>2832</th>\n",
       "      <td>0.324968</td>\n",
       "      <td>0.304504</td>\n",
       "      <td>0.342561</td>\n",
       "      <td>0.325786</td>\n",
       "      <td>0</td>\n",
       "      <td>2013</td>\n",
       "      <td>3</td>\n",
       "      <td>27</td>\n",
       "      <td>2</td>\n",
       "    </tr>\n",
       "  </tbody>\n",
       "</table>\n",
       "</div>"
      ],
      "text/plain": [
       "          Open      High       Low     Close  group_id  year  month  day  \\\n",
       "2833  0.375645  0.334328  0.362572  0.325786         0  2013      3   25   \n",
       "2832  0.324968  0.304504  0.342561  0.325786         0  2013      3   27   \n",
       "\n",
       "      weekday  \n",
       "2833        0  \n",
       "2832        2  "
      ]
     },
     "execution_count": 69,
     "metadata": {},
     "output_type": "execute_result"
    }
   ],
   "source": [
    "Copper_Data.head(2)"
   ]
  },
  {
   "cell_type": "code",
   "execution_count": 71,
   "id": "dd0cf4c5-2469-477a-be7b-6c14018452ea",
   "metadata": {},
   "outputs": [
    {
     "data": {
      "text/plain": [
       "(2834, 9)"
      ]
     },
     "execution_count": 71,
     "metadata": {},
     "output_type": "execute_result"
    }
   ],
   "source": [
    "Copper_copy = Copper_Data.copy()\n",
    "\n",
    "label_encoder2 = LabelEncoder()\n",
    "Copper_copy['group_id'] = label_encoder2.fit_transform(Copper_copy['group_id'])\n",
    "Copper_copy.shape"
   ]
  },
  {
   "cell_type": "code",
   "execution_count": 73,
   "id": "92068d62-a25a-43ba-9583-59fb8c7a8b9a",
   "metadata": {},
   "outputs": [
    {
     "data": {
      "image/png": "[encoded data removed]",
      "text/plain": [
       "<Figure size 640x480 with 1 Axes>"
      ]
     },
     "metadata": {},
     "output_type": "display_data"
    }
   ],
   "source": [
    "bic = []\n",
    "aic = []\n",
    "n_components = range(1, 10)\n",
    "\n",
    "for n in n_components:\n",
    "    gmm = GaussianMixture(n_components=n, random_state=42)\n",
    "    gmm.fit(Copper_copy)\n",
    "    bic.append(gmm.bic(Copper_copy))\n",
    "    aic.append(gmm.aic(Copper_copy))\n",
    "\n",
    "plt.plot(n_components, bic, label='BIC')\n",
    "plt.plot(n_components, aic, label='AIC')\n",
    "plt.legend()\n",
    "plt.xlabel(\"Number of components\")\n",
    "plt.ylabel(\"Score\")\n",
    "plt.title(\"Gaussian MM - Optimal nbr-clusters - Original Data\")\n",
    "plt.show()"
   ]
  },
  {
   "cell_type": "code",
   "execution_count": null,
   "id": "cde6c346-f182-468f-bcc8-630fdcd2f968",
   "metadata": {},
   "outputs": [],
   "source": []
  },
  {
   "cell_type": "code",
   "execution_count": 75,
   "id": "87523ea1-4e25-4826-a973-8070c3a1e370",
   "metadata": {},
   "outputs": [],
   "source": [
    "gmm = GaussianMixture(n_components=3, covariance_type='full', random_state=42)\n",
    "gmm.fit(Copper_copy)\n",
    "\n",
    "Copper_copy['Cluster_Label'] = gmm.predict(Copper_copy)"
   ]
  },
  {
   "cell_type": "code",
   "execution_count": 76,
   "id": "bd4ce44f-13ce-49a4-b21a-09fcaa14aa71",
   "metadata": {},
   "outputs": [
    {
     "name": "stdout",
     "output_type": "stream",
     "text": [
      "✅ Dataset exporté avec succès sous : /Users/juniormukenze/Documents/00 Personal Research Publication/Research Paper 1/Enhancing Time Series Forecasting with VAE-based Data Augmentation and Temporal Pattern Analysis using Neural Networks/Modules/data/cluster/Copper_Data_GMM_O.csv\n"
     ]
    }
   ],
   "source": [
    "# 📄 Name of exported file\n",
    "filename = \"Copper_Data_GMM_O.csv\"\n",
    "export_path = os.path.join(EXPORT_DIR, filename)\n",
    "\n",
    "# 💾 Name file saved\n",
    "Data_Mixed.to_csv(export_path, index=False)\n",
    "print(f\"✅ Dataset exporté avec succès sous : {export_path}\")"
   ]
  },
  {
   "cell_type": "code",
   "execution_count": null,
   "id": "e5f3aa26-0ad5-41b7-b9b1-5ae410bd63b2",
   "metadata": {},
   "outputs": [],
   "source": []
  },
  {
   "cell_type": "code",
   "execution_count": null,
   "id": "1d69a11f-4441-4e4a-85a3-3512da4aa087",
   "metadata": {},
   "outputs": [],
   "source": []
  }
 ],
 "metadata": {
  "kernelspec": {
   "display_name": "Python [conda env:base] *",
   "language": "python",
   "name": "conda-base-py"
  },
  "language_info": {
   "codemirror_mode": {
    "name": "ipython",
    "version": 3
   },
   "file_extension": ".py",
   "mimetype": "text/x-python",
   "name": "python",
   "nbconvert_exporter": "python",
   "pygments_lexer": "ipython3",
   "version": "3.12.7"
  }
 },
 "nbformat": 4,
 "nbformat_minor": 5
}
