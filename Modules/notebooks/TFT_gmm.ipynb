{
 "cells": [
  {
   "cell_type": "markdown",
   "id": "30a945d2-a266-40a8-9fdc-68dd2819b48f",
   "metadata": {},
   "source": [
    "# Libraries Import"
   ]
  },
  {
   "cell_type": "code",
   "execution_count": 20,
   "id": "5f045c86-2835-442f-88d4-ebc9a78de35a",
   "metadata": {},
   "outputs": [
    {
     "name": "stdout",
     "output_type": "stream",
     "text": [
      "Torch version: 2.6.0\n"
     ]
    }
   ],
   "source": [
    "import numpy as np\n",
    "import pandas as pd\n",
    "import warnings\n",
    "import pickle\n",
    "import torch\n",
    "import os\n",
    "import sys\n",
    "print(\"Torch version:\", torch.__version__)\n",
    "\n",
    "# ------- Model\n",
    "from pytorch_forecasting.models.temporal_fusion_transformer import TemporalFusionTransformer\n",
    "from pytorch_forecasting import Baseline, TemporalFusionTransformer, TimeSeriesDataSet\n",
    "from pytorch_forecasting.data import NaNLabelEncoder, GroupNormalizer\n",
    "\n",
    "# ------- Model Metrics\n",
    "from pytorch_forecasting.metrics import MAE, SMAPE, PoissonLoss, QuantileLoss\n",
    "from pytorch_forecasting.metrics import RMSE\n",
    "from torch.nn import MSELoss\n",
    "\n",
    "# ------- Model Monitoring\n",
    "import lightning.pytorch as pl\n",
    "from lightning.pytorch.callbacks import EarlyStopping, LearningRateMonitor\n",
    "from lightning.pytorch.loggers import TensorBoardLogger\n",
    "\n",
    "# ------- Model Utils\n",
    "from pytorch_forecasting.models.temporal_fusion_transformer.tuning import optimize_hyperparameters\n",
    "from torch.utils.data import Dataset, DataLoader\n",
    "\n",
    "# Data Loader\n",
    "sys.path.append(os.path.abspath(os.path.join(os.getcwd(), \"..\", \"Sources\")))\n",
    "# 📥 Import load fonction\n",
    "from data_loader import load_data\n"
   ]
  },
  {
   "cell_type": "markdown",
   "id": "f78571fa-b295-40c1-9f6d-054e2fad78a3",
   "metadata": {},
   "source": [
    "# I. Data Loading"
   ]
  },
  {
   "cell_type": "markdown",
   "id": "d2b2568a-bec9-4cf3-9c0a-ff760d486d4e",
   "metadata": {},
   "source": [
    "### I.1. Original Data"
   ]
  },
  {
   "cell_type": "code",
   "execution_count": 32,
   "id": "3b213d4b-017a-4861-a711-898edbe51baa",
   "metadata": {},
   "outputs": [
    {
     "name": "stdout",
     "output_type": "stream",
     "text": [
      "✅ Load File : /Users/juniormukenze/Documents/00 Personal Research Publication/Research Paper 1/Enhancing Time Series Forecasting with VAE-based Data Augmentation and Temporal Pattern Analysis using Neural Networks/Modules/data/cluster/Copper_Data_GMM_O.csv  |  Separator detected: ','\n"
     ]
    },
    {
     "data": {
      "text/html": [
       "<div>\n",
       "<style scoped>\n",
       "    .dataframe tbody tr th:only-of-type {\n",
       "        vertical-align: middle;\n",
       "    }\n",
       "\n",
       "    .dataframe tbody tr th {\n",
       "        vertical-align: top;\n",
       "    }\n",
       "\n",
       "    .dataframe thead th {\n",
       "        text-align: right;\n",
       "    }\n",
       "</style>\n",
       "<table border=\"1\" class=\"dataframe\">\n",
       "  <thead>\n",
       "    <tr style=\"text-align: right;\">\n",
       "      <th></th>\n",
       "      <th>Open</th>\n",
       "      <th>High</th>\n",
       "      <th>Low</th>\n",
       "      <th>Close</th>\n",
       "      <th>group_id</th>\n",
       "      <th>year</th>\n",
       "      <th>month</th>\n",
       "      <th>day</th>\n",
       "      <th>weekday</th>\n",
       "      <th>Cluster_Label</th>\n",
       "    </tr>\n",
       "  </thead>\n",
       "  <tbody>\n",
       "    <tr>\n",
       "      <th>0</th>\n",
       "      <td>0.375645</td>\n",
       "      <td>0.334328</td>\n",
       "      <td>0.362572</td>\n",
       "      <td>0.325786</td>\n",
       "      <td>0</td>\n",
       "      <td>2013</td>\n",
       "      <td>3</td>\n",
       "      <td>25</td>\n",
       "      <td>0</td>\n",
       "      <td>1</td>\n",
       "    </tr>\n",
       "    <tr>\n",
       "      <th>1</th>\n",
       "      <td>0.324968</td>\n",
       "      <td>0.304504</td>\n",
       "      <td>0.342561</td>\n",
       "      <td>0.325786</td>\n",
       "      <td>0</td>\n",
       "      <td>2013</td>\n",
       "      <td>3</td>\n",
       "      <td>27</td>\n",
       "      <td>2</td>\n",
       "      <td>1</td>\n",
       "    </tr>\n",
       "  </tbody>\n",
       "</table>\n",
       "</div>"
      ],
      "text/plain": [
       "       Open      High       Low     Close  group_id  year  month  day  \\\n",
       "0  0.375645  0.334328  0.362572  0.325786         0  2013      3   25   \n",
       "1  0.324968  0.304504  0.342561  0.325786         0  2013      3   27   \n",
       "\n",
       "   weekday  Cluster_Label  \n",
       "0        0              1  \n",
       "1        2              1  "
      ]
     },
     "execution_count": 32,
     "metadata": {},
     "output_type": "execute_result"
    }
   ],
   "source": [
    "# Load Data from CSV to DataFrame\n",
    "GMM_Data_O = load_data('cluster', 'Copper_Data_GMM_O.csv')\n",
    "GMM_Data_O.head(2)"
   ]
  },
  {
   "cell_type": "code",
   "execution_count": 34,
   "id": "c3f8164f-1ab0-429c-a713-3b0ec7b6eaf0",
   "metadata": {},
   "outputs": [
    {
     "data": {
      "text/plain": [
       "array([1, 2, 0])"
      ]
     },
     "execution_count": 34,
     "metadata": {},
     "output_type": "execute_result"
    }
   ],
   "source": [
    "GMM_Data_O['Cluster_Label'].unique()"
   ]
  },
  {
   "cell_type": "code",
   "execution_count": 36,
   "id": "da7cf2d6-dc91-40a4-a019-4d1d02859add",
   "metadata": {},
   "outputs": [
    {
     "data": {
      "text/plain": [
       "Index(['Open', 'High', 'Low', 'Close', 'group_id', 'year', 'month', 'day',\n",
       "       'weekday', 'Cluster_Label', 'Date_from_start'],\n",
       "      dtype='object')"
      ]
     },
     "execution_count": 36,
     "metadata": {},
     "output_type": "execute_result"
    }
   ],
   "source": [
    "for col in ['year', 'month', 'day', 'weekday']:\n",
    "    GMM_Data_O[col] = GMM_Data_O[col].astype(int)\n",
    "\n",
    "# Construction de la colonne concaténée : YYYYMMDDW\n",
    "GMM_Data_O['Date_from_start'] = (\n",
    "    GMM_Data_O['year'].astype(str).str.zfill(4) +\n",
    "    GMM_Data_O['month'].astype(str).str.zfill(2) +\n",
    "    GMM_Data_O['day'].astype(str).str.zfill(2) +\n",
    "    GMM_Data_O['weekday'].astype(str)\n",
    ").astype(int)\n",
    "\n",
    "# ⚠️ Conversion explicite de la colonne catégorielle en string\n",
    "GMM_Data_O[\"Cluster_Label\"] = GMM_Data_O[\"Cluster_Label\"].astype(str)\n",
    "GMM_Data_O.columns"
   ]
  },
  {
   "cell_type": "code",
   "execution_count": 38,
   "id": "cce5f553-cfa1-4ade-b72f-eb5a03ff4318",
   "metadata": {},
   "outputs": [
    {
     "data": {
      "text/html": [
       "<div>\n",
       "<style scoped>\n",
       "    .dataframe tbody tr th:only-of-type {\n",
       "        vertical-align: middle;\n",
       "    }\n",
       "\n",
       "    .dataframe tbody tr th {\n",
       "        vertical-align: top;\n",
       "    }\n",
       "\n",
       "    .dataframe thead th {\n",
       "        text-align: right;\n",
       "    }\n",
       "</style>\n",
       "<table border=\"1\" class=\"dataframe\">\n",
       "  <thead>\n",
       "    <tr style=\"text-align: right;\">\n",
       "      <th></th>\n",
       "      <th>Open</th>\n",
       "      <th>High</th>\n",
       "      <th>Low</th>\n",
       "      <th>Close</th>\n",
       "      <th>group_id</th>\n",
       "      <th>year</th>\n",
       "      <th>month</th>\n",
       "      <th>day</th>\n",
       "      <th>weekday</th>\n",
       "      <th>Cluster_Label</th>\n",
       "      <th>Date_from_start</th>\n",
       "    </tr>\n",
       "  </thead>\n",
       "  <tbody>\n",
       "    <tr>\n",
       "      <th>0</th>\n",
       "      <td>0.375645</td>\n",
       "      <td>0.334328</td>\n",
       "      <td>0.362572</td>\n",
       "      <td>0.325786</td>\n",
       "      <td>0</td>\n",
       "      <td>2013</td>\n",
       "      <td>3</td>\n",
       "      <td>25</td>\n",
       "      <td>0</td>\n",
       "      <td>1</td>\n",
       "      <td>201303250</td>\n",
       "    </tr>\n",
       "    <tr>\n",
       "      <th>1</th>\n",
       "      <td>0.324968</td>\n",
       "      <td>0.304504</td>\n",
       "      <td>0.342561</td>\n",
       "      <td>0.325786</td>\n",
       "      <td>0</td>\n",
       "      <td>2013</td>\n",
       "      <td>3</td>\n",
       "      <td>27</td>\n",
       "      <td>2</td>\n",
       "      <td>1</td>\n",
       "      <td>201303272</td>\n",
       "    </tr>\n",
       "    <tr>\n",
       "      <th>2</th>\n",
       "      <td>0.344676</td>\n",
       "      <td>0.303117</td>\n",
       "      <td>0.310401</td>\n",
       "      <td>0.269478</td>\n",
       "      <td>0</td>\n",
       "      <td>2013</td>\n",
       "      <td>3</td>\n",
       "      <td>28</td>\n",
       "      <td>3</td>\n",
       "      <td>1</td>\n",
       "      <td>201303283</td>\n",
       "    </tr>\n",
       "  </tbody>\n",
       "</table>\n",
       "</div>"
      ],
      "text/plain": [
       "       Open      High       Low     Close  group_id  year  month  day  \\\n",
       "0  0.375645  0.334328  0.362572  0.325786         0  2013      3   25   \n",
       "1  0.324968  0.304504  0.342561  0.325786         0  2013      3   27   \n",
       "2  0.344676  0.303117  0.310401  0.269478         0  2013      3   28   \n",
       "\n",
       "   weekday Cluster_Label  Date_from_start  \n",
       "0        0             1        201303250  \n",
       "1        2             1        201303272  \n",
       "2        3             1        201303283  "
      ]
     },
     "execution_count": 38,
     "metadata": {},
     "output_type": "execute_result"
    }
   ],
   "source": [
    "GMM_Data_O.head(3)"
   ]
  },
  {
   "cell_type": "markdown",
   "id": "4e3b552c-1d18-4cad-aecc-57a6167934e6",
   "metadata": {},
   "source": [
    "### Split Train and Test"
   ]
  },
  {
   "cell_type": "code",
   "execution_count": 41,
   "id": "08129695-4127-49fa-ad90-9d12b823705e",
   "metadata": {},
   "outputs": [
    {
     "data": {
      "text/plain": [
       "((2267, 11), (567, 11))"
      ]
     },
     "execution_count": 41,
     "metadata": {},
     "output_type": "execute_result"
    }
   ],
   "source": [
    "DFoGMM = GMM_Data_O.copy()\n",
    "\n",
    "#Calcul de l’indice de coupure\n",
    "split_index1 = int(len(DFoGMM) * 0.8)\n",
    "\n",
    "# 4. Division train/test\n",
    "DFoGMM_Train = DFoGMM.iloc[:split_index1]\n",
    "DFoGMM_Test = DFoGMM.iloc[split_index1:]\n",
    "\n",
    "DFoGMM_Train.shape, DFoGMM_Test.shape"
   ]
  },
  {
   "cell_type": "code",
   "execution_count": 43,
   "id": "ccdb106c-25db-421e-a2e1-18abf917e41d",
   "metadata": {},
   "outputs": [
    {
     "data": {
      "text/plain": [
       "array(['1', '2', '0'], dtype=object)"
      ]
     },
     "execution_count": 43,
     "metadata": {},
     "output_type": "execute_result"
    }
   ],
   "source": [
    "DFoGMM_Train['Cluster_Label'].unique()"
   ]
  },
  {
   "cell_type": "markdown",
   "id": "b50aa59d-1edd-4dc5-b182-469adf45bbd5",
   "metadata": {},
   "source": [
    "### I.2. Augmented Data"
   ]
  },
  {
   "cell_type": "code",
   "execution_count": 47,
   "id": "af5ba6b5-3579-406a-ab85-2d74c29b50f4",
   "metadata": {},
   "outputs": [
    {
     "name": "stdout",
     "output_type": "stream",
     "text": [
      "✅ Load File : /Users/juniormukenze/Documents/00 Personal Research Publication/Research Paper 1/Enhancing Time Series Forecasting with VAE-based Data Augmentation and Temporal Pattern Analysis using Neural Networks/Modules/data/cluster/Copper_Data_GMMix.csv  |  Separator detected: ','\n"
     ]
    },
    {
     "data": {
      "text/html": [
       "<div>\n",
       "<style scoped>\n",
       "    .dataframe tbody tr th:only-of-type {\n",
       "        vertical-align: middle;\n",
       "    }\n",
       "\n",
       "    .dataframe tbody tr th {\n",
       "        vertical-align: top;\n",
       "    }\n",
       "\n",
       "    .dataframe thead th {\n",
       "        text-align: right;\n",
       "    }\n",
       "</style>\n",
       "<table border=\"1\" class=\"dataframe\">\n",
       "  <thead>\n",
       "    <tr style=\"text-align: right;\">\n",
       "      <th></th>\n",
       "      <th>Open</th>\n",
       "      <th>High</th>\n",
       "      <th>Low</th>\n",
       "      <th>Close</th>\n",
       "      <th>group_id</th>\n",
       "      <th>year</th>\n",
       "      <th>month</th>\n",
       "      <th>day</th>\n",
       "      <th>weekday</th>\n",
       "      <th>Cluster_Label</th>\n",
       "    </tr>\n",
       "  </thead>\n",
       "  <tbody>\n",
       "    <tr>\n",
       "      <th>0</th>\n",
       "      <td>0.393996</td>\n",
       "      <td>0.350258</td>\n",
       "      <td>0.380149</td>\n",
       "      <td>0.340854</td>\n",
       "      <td>0</td>\n",
       "      <td>2013</td>\n",
       "      <td>3</td>\n",
       "      <td>25</td>\n",
       "      <td>0</td>\n",
       "      <td>0</td>\n",
       "    </tr>\n",
       "    <tr>\n",
       "      <th>1</th>\n",
       "      <td>0.340330</td>\n",
       "      <td>0.318698</td>\n",
       "      <td>0.358946</td>\n",
       "      <td>0.340854</td>\n",
       "      <td>0</td>\n",
       "      <td>2013</td>\n",
       "      <td>3</td>\n",
       "      <td>27</td>\n",
       "      <td>2</td>\n",
       "      <td>0</td>\n",
       "    </tr>\n",
       "  </tbody>\n",
       "</table>\n",
       "</div>"
      ],
      "text/plain": [
       "       Open      High       Low     Close  group_id  year  month  day  \\\n",
       "0  0.393996  0.350258  0.380149  0.340854         0  2013      3   25   \n",
       "1  0.340330  0.318698  0.358946  0.340854         0  2013      3   27   \n",
       "\n",
       "   weekday  Cluster_Label  \n",
       "0        0              0  \n",
       "1        2              0  "
      ]
     },
     "execution_count": 47,
     "metadata": {},
     "output_type": "execute_result"
    }
   ],
   "source": [
    "# Load Data from CSV to DataFrame\n",
    "GMM_Data_Aug = load_data('cluster', 'Copper_Data_GMMix.csv')\n",
    "GMM_Data_Aug.head(2)"
   ]
  },
  {
   "cell_type": "code",
   "execution_count": 49,
   "id": "e99df6fa-df53-4408-a956-647c7ce70007",
   "metadata": {},
   "outputs": [
    {
     "data": {
      "text/html": [
       "<div>\n",
       "<style scoped>\n",
       "    .dataframe tbody tr th:only-of-type {\n",
       "        vertical-align: middle;\n",
       "    }\n",
       "\n",
       "    .dataframe tbody tr th {\n",
       "        vertical-align: top;\n",
       "    }\n",
       "\n",
       "    .dataframe thead th {\n",
       "        text-align: right;\n",
       "    }\n",
       "</style>\n",
       "<table border=\"1\" class=\"dataframe\">\n",
       "  <thead>\n",
       "    <tr style=\"text-align: right;\">\n",
       "      <th></th>\n",
       "      <th>Open</th>\n",
       "      <th>High</th>\n",
       "      <th>Low</th>\n",
       "      <th>Close</th>\n",
       "      <th>group_id</th>\n",
       "      <th>year</th>\n",
       "      <th>month</th>\n",
       "      <th>day</th>\n",
       "      <th>weekday</th>\n",
       "      <th>Cluster_Label</th>\n",
       "    </tr>\n",
       "  </thead>\n",
       "  <tbody>\n",
       "    <tr>\n",
       "      <th>0</th>\n",
       "      <td>0.393996</td>\n",
       "      <td>0.350258</td>\n",
       "      <td>0.380149</td>\n",
       "      <td>0.340854</td>\n",
       "      <td>0</td>\n",
       "      <td>2013</td>\n",
       "      <td>3</td>\n",
       "      <td>25</td>\n",
       "      <td>0</td>\n",
       "      <td>0</td>\n",
       "    </tr>\n",
       "    <tr>\n",
       "      <th>1</th>\n",
       "      <td>0.340330</td>\n",
       "      <td>0.318698</td>\n",
       "      <td>0.358946</td>\n",
       "      <td>0.340854</td>\n",
       "      <td>0</td>\n",
       "      <td>2013</td>\n",
       "      <td>3</td>\n",
       "      <td>27</td>\n",
       "      <td>2</td>\n",
       "      <td>0</td>\n",
       "    </tr>\n",
       "    <tr>\n",
       "      <th>2</th>\n",
       "      <td>0.361200</td>\n",
       "      <td>0.317230</td>\n",
       "      <td>0.324869</td>\n",
       "      <td>0.281214</td>\n",
       "      <td>0</td>\n",
       "      <td>2013</td>\n",
       "      <td>3</td>\n",
       "      <td>28</td>\n",
       "      <td>3</td>\n",
       "      <td>0</td>\n",
       "    </tr>\n",
       "  </tbody>\n",
       "</table>\n",
       "</div>"
      ],
      "text/plain": [
       "       Open      High       Low     Close  group_id  year  month  day  \\\n",
       "0  0.393996  0.350258  0.380149  0.340854         0  2013      3   25   \n",
       "1  0.340330  0.318698  0.358946  0.340854         0  2013      3   27   \n",
       "2  0.361200  0.317230  0.324869  0.281214         0  2013      3   28   \n",
       "\n",
       "   weekday  Cluster_Label  \n",
       "0        0              0  \n",
       "1        2              0  \n",
       "2        3              0  "
      ]
     },
     "execution_count": 49,
     "metadata": {},
     "output_type": "execute_result"
    }
   ],
   "source": [
    "GMM_Data_Aug.head(3)"
   ]
  },
  {
   "cell_type": "code",
   "execution_count": 51,
   "id": "5bb5e014-287e-4104-abbf-e5b013ed4303",
   "metadata": {},
   "outputs": [
    {
     "data": {
      "text/plain": [
       "array([0, 1, 2])"
      ]
     },
     "execution_count": 51,
     "metadata": {},
     "output_type": "execute_result"
    }
   ],
   "source": [
    "GMM_Data_Aug['Cluster_Label'].unique()"
   ]
  },
  {
   "cell_type": "code",
   "execution_count": 53,
   "id": "c9d1a115-6fcb-4aba-9d6e-c54ec2c05b75",
   "metadata": {},
   "outputs": [
    {
     "data": {
      "text/plain": [
       "Index(['Open', 'High', 'Low', 'Close', 'group_id', 'year', 'month', 'day',\n",
       "       'weekday', 'Cluster_Label', 'Date_from_start'],\n",
       "      dtype='object')"
      ]
     },
     "execution_count": 53,
     "metadata": {},
     "output_type": "execute_result"
    }
   ],
   "source": [
    "for col in ['year', 'month', 'day', 'weekday']:\n",
    "    GMM_Data_Aug[col] = GMM_Data_Aug[col].astype(int)\n",
    "\n",
    "# Construction de la colonne concaténée : YYYYMMDDW\n",
    "GMM_Data_Aug['Date_from_start'] = (\n",
    "    GMM_Data_Aug['year'].astype(str).str.zfill(4) +\n",
    "    GMM_Data_Aug['month'].astype(str).str.zfill(2) +\n",
    "    GMM_Data_Aug['day'].astype(str).str.zfill(2) +\n",
    "    GMM_Data_Aug['weekday'].astype(str)\n",
    ").astype(int)\n",
    "\n",
    "# ⚠️ Conversion explicite de la colonne catégorielle en string\n",
    "GMM_Data_Aug[\"Cluster_Label\"] = GMM_Data_Aug[\"Cluster_Label\"].astype(str)\n",
    "GMM_Data_Aug.columns"
   ]
  },
  {
   "cell_type": "code",
   "execution_count": 55,
   "id": "e548620b-86b7-4faf-b023-259284252c2f",
   "metadata": {},
   "outputs": [
    {
     "data": {
      "text/html": [
       "<div>\n",
       "<style scoped>\n",
       "    .dataframe tbody tr th:only-of-type {\n",
       "        vertical-align: middle;\n",
       "    }\n",
       "\n",
       "    .dataframe tbody tr th {\n",
       "        vertical-align: top;\n",
       "    }\n",
       "\n",
       "    .dataframe thead th {\n",
       "        text-align: right;\n",
       "    }\n",
       "</style>\n",
       "<table border=\"1\" class=\"dataframe\">\n",
       "  <thead>\n",
       "    <tr style=\"text-align: right;\">\n",
       "      <th></th>\n",
       "      <th>Open</th>\n",
       "      <th>High</th>\n",
       "      <th>Low</th>\n",
       "      <th>Close</th>\n",
       "      <th>group_id</th>\n",
       "      <th>year</th>\n",
       "      <th>month</th>\n",
       "      <th>day</th>\n",
       "      <th>weekday</th>\n",
       "      <th>Cluster_Label</th>\n",
       "      <th>Date_from_start</th>\n",
       "    </tr>\n",
       "  </thead>\n",
       "  <tbody>\n",
       "    <tr>\n",
       "      <th>0</th>\n",
       "      <td>0.393996</td>\n",
       "      <td>0.350258</td>\n",
       "      <td>0.380149</td>\n",
       "      <td>0.340854</td>\n",
       "      <td>0</td>\n",
       "      <td>2013</td>\n",
       "      <td>3</td>\n",
       "      <td>25</td>\n",
       "      <td>0</td>\n",
       "      <td>0</td>\n",
       "      <td>201303250</td>\n",
       "    </tr>\n",
       "    <tr>\n",
       "      <th>1</th>\n",
       "      <td>0.340330</td>\n",
       "      <td>0.318698</td>\n",
       "      <td>0.358946</td>\n",
       "      <td>0.340854</td>\n",
       "      <td>0</td>\n",
       "      <td>2013</td>\n",
       "      <td>3</td>\n",
       "      <td>27</td>\n",
       "      <td>2</td>\n",
       "      <td>0</td>\n",
       "      <td>201303272</td>\n",
       "    </tr>\n",
       "    <tr>\n",
       "      <th>2</th>\n",
       "      <td>0.361200</td>\n",
       "      <td>0.317230</td>\n",
       "      <td>0.324869</td>\n",
       "      <td>0.281214</td>\n",
       "      <td>0</td>\n",
       "      <td>2013</td>\n",
       "      <td>3</td>\n",
       "      <td>28</td>\n",
       "      <td>3</td>\n",
       "      <td>0</td>\n",
       "      <td>201303283</td>\n",
       "    </tr>\n",
       "  </tbody>\n",
       "</table>\n",
       "</div>"
      ],
      "text/plain": [
       "       Open      High       Low     Close  group_id  year  month  day  \\\n",
       "0  0.393996  0.350258  0.380149  0.340854         0  2013      3   25   \n",
       "1  0.340330  0.318698  0.358946  0.340854         0  2013      3   27   \n",
       "2  0.361200  0.317230  0.324869  0.281214         0  2013      3   28   \n",
       "\n",
       "   weekday Cluster_Label  Date_from_start  \n",
       "0        0             0        201303250  \n",
       "1        2             0        201303272  \n",
       "2        3             0        201303283  "
      ]
     },
     "execution_count": 55,
     "metadata": {},
     "output_type": "execute_result"
    }
   ],
   "source": [
    "GMM_Data_Aug.head(3)"
   ]
  },
  {
   "cell_type": "markdown",
   "id": "d308f9fb-46a6-456c-ab76-4467af48c321",
   "metadata": {},
   "source": [
    "### Split Train and Test"
   ]
  },
  {
   "cell_type": "code",
   "execution_count": 58,
   "id": "5e1409a9-fb13-4d7c-b582-114378d0ea9f",
   "metadata": {},
   "outputs": [
    {
     "data": {
      "text/plain": [
       "((4534, 11), (1134, 11))"
      ]
     },
     "execution_count": 58,
     "metadata": {},
     "output_type": "execute_result"
    }
   ],
   "source": [
    "DFaugGMM = GMM_Data_Aug.copy()\n",
    "\n",
    "#Calcul de l’indice de coupure\n",
    "split_index2 = int(len(DFaugGMM) * 0.8)\n",
    "\n",
    "# 4. Division train/test\n",
    "DFaugGMM_Train = DFaugGMM.iloc[:split_index2]\n",
    "DFaugGMM_Test = DFaugGMM.iloc[split_index2:]\n",
    "\n",
    "DFaugGMM_Train.shape, DFaugGMM_Test.shape"
   ]
  },
  {
   "cell_type": "code",
   "execution_count": 60,
   "id": "6c85b765-4ff1-4d19-805f-8e4c21ec92f9",
   "metadata": {},
   "outputs": [
    {
     "data": {
      "text/plain": [
       "array(['0', '1', '2'], dtype=object)"
      ]
     },
     "execution_count": 60,
     "metadata": {},
     "output_type": "execute_result"
    }
   ],
   "source": [
    "DFaugGMM_Train['Cluster_Label'].unique()"
   ]
  },
  {
   "cell_type": "markdown",
   "id": "dca764e6-1e70-4181-aac5-8808d506a4b6",
   "metadata": {},
   "source": [
    "## I.3. Définition du TimeSeriesDataSet"
   ]
  },
  {
   "cell_type": "markdown",
   "id": "3adf9b5f-b0b9-4dc4-ac8b-792949f9d945",
   "metadata": {},
   "source": [
    "##### Hyperparameters"
   ]
  },
  {
   "cell_type": "code",
   "execution_count": 64,
   "id": "22347d70-481a-40d8-8dca-fa2efa918c1f",
   "metadata": {},
   "outputs": [],
   "source": [
    "batch_size = 64\n",
    "num_heads = 4\n",
    "hidden_size = 160\n",
    "learning_rate = 0.001\n",
    "gradient_clip_val = 0.1\n",
    "\n",
    "max_prediction_length = 30\n",
    "max_encoder_length = 90"
   ]
  },
  {
   "cell_type": "code",
   "execution_count": 66,
   "id": "6d225425-577e-4238-984b-afb498df989e",
   "metadata": {},
   "outputs": [
    {
     "name": "stdout",
     "output_type": "stream",
     "text": [
      "DataLoaders pour deux Inputs prêts ✅\n"
     ]
    }
   ],
   "source": [
    "training_cutoff = DFaugGMM_Train[\"Date_from_start\"].max() - max_prediction_length\n",
    "\n",
    "training_combined = TimeSeriesDataSet(\n",
    "    DFaugGMM_Train[lambda x: x.Date_from_start <= training_cutoff],\n",
    "    time_idx=\"Date_from_start\",\n",
    "    target=\"Close\",\n",
    "    group_ids=[\"group_id\"],  # Identification des deux sources\n",
    "    min_encoder_length=max_encoder_length // 2,\n",
    "    max_encoder_length=max_encoder_length,\n",
    "    min_prediction_length=1,\n",
    "    max_prediction_length=max_prediction_length,\n",
    "    static_categoricals=[\"Cluster_Label\"],\n",
    "    time_varying_known_reals=[\"Open\", \"High\", \"Low\",\"year\", \"month\", \"day\", \"weekday\",], \n",
    "\n",
    "    #time_varying_unknown_reals=[],\n",
    "    target_normalizer=GroupNormalizer(method=\"robust\"),\n",
    "    add_relative_time_idx=True,\n",
    "    add_target_scales=True,\n",
    "    add_encoder_length=True,\n",
    "    allow_missing_timesteps=True,  # Gestion des données manquantes\n",
    "    \n",
    ")\n",
    "\n",
    "# Création du DataLoader pour l'entraînement et validation\n",
    "validation_combined = TimeSeriesDataSet.from_dataset(training_combined, DFaugGMM_Train, predict=True, stop_randomization=True)\n",
    "test_combined = TimeSeriesDataSet.from_dataset(training_combined, DFaugGMM_Test, predict=True, stop_randomization=True)\n",
    "\n",
    "train_dataloader_combined = training_combined.to_dataloader(train=True, batch_size=batch_size, num_workers=0)\n",
    "val_dataloader_combined = validation_combined.to_dataloader(train=False, batch_size=batch_size * 10, num_workers=0)\n",
    "test_dataloader_combined = test_combined.to_dataloader(train=False, batch_size=batch_size , num_workers=0)\n",
    "\n",
    "print(\"DataLoaders pour deux Inputs prêts ✅\")"
   ]
  },
  {
   "cell_type": "markdown",
   "id": "05f0fd51-3233-46f5-bd82-e24afe57c80b",
   "metadata": {},
   "source": [
    "## I.2. Model Architecture"
   ]
  },
  {
   "cell_type": "markdown",
   "id": "46a58c9a-6061-41a4-bde9-6f4e2de6ad8e",
   "metadata": {},
   "source": [
    "##### Définition des Callbacks et du Trainer"
   ]
  },
  {
   "cell_type": "code",
   "execution_count": 70,
   "id": "2411c6da-b467-403f-9f8a-2713a0fac32c",
   "metadata": {},
   "outputs": [
    {
     "name": "stderr",
     "output_type": "stream",
     "text": [
      "GPU available: True (mps), used: True\n",
      "TPU available: False, using: 0 TPU cores\n",
      "HPU available: False, using: 0 HPUs\n"
     ]
    }
   ],
   "source": [
    "early_stop_callback = EarlyStopping(monitor=\"val_loss\", min_delta=1e-4, patience=5, verbose=True, mode=\"min\")\n",
    "lr_logger = LearningRateMonitor()\n",
    "logger = TensorBoardLogger(\"lightning_logs\")\n",
    "\n",
    "trainer = pl.Trainer(\n",
    "    max_epochs=45,\n",
    "    accelerator=\"gpu\",\n",
    "    devices=1,\n",
    "    enable_model_summary=True,\n",
    "    gradient_clip_val=gradient_clip_val,\n",
    "    callbacks=[lr_logger, early_stop_callback],\n",
    "    logger=logger,\n",
    ")\n"
   ]
  },
  {
   "cell_type": "markdown",
   "id": "0a0efbd4-c2e9-4f64-a7ea-927c588b5961",
   "metadata": {},
   "source": [
    "##### Définition du Modèle TFT"
   ]
  },
  {
   "cell_type": "code",
   "execution_count": 73,
   "id": "10c4956e-6d56-467d-89a3-7a825c3d8027",
   "metadata": {},
   "outputs": [
    {
     "name": "stderr",
     "output_type": "stream",
     "text": [
      "/opt/anaconda3/lib/python3.12/site-packages/lightning/pytorch/utilities/parsing.py:209: Attribute 'loss' is an instance of `nn.Module` and is already saved during checkpointing. It is recommended to ignore them using `self.save_hyperparameters(ignore=['loss'])`.\n",
      "/opt/anaconda3/lib/python3.12/site-packages/lightning/pytorch/utilities/parsing.py:209: Attribute 'logging_metrics' is an instance of `nn.Module` and is already saved during checkpointing. It is recommended to ignore them using `self.save_hyperparameters(ignore=['logging_metrics'])`.\n"
     ]
    }
   ],
   "source": [
    "tft = TemporalFusionTransformer.from_dataset(\n",
    "    training_combined,\n",
    "    learning_rate=learning_rate,\n",
    "    hidden_size=hidden_size,\n",
    "    attention_head_size=num_heads,\n",
    "    dropout=0.1,\n",
    "    hidden_continuous_size=hidden_size,\n",
    "    output_size=3,  # Une seule sortie (Close)\n",
    "    loss=QuantileLoss(quantiles=[0.1, 0.5, 0.9]),\n",
    "    log_interval=10,\n",
    "    optimizer=\"ranger\",\n",
    "    reduce_on_plateau_patience=4,\n",
    ")\n"
   ]
  },
  {
   "cell_type": "markdown",
   "id": "2b299eb7-db76-4617-acda-570eb374c3ba",
   "metadata": {},
   "source": [
    "##### Entraînement du modèle"
   ]
  },
  {
   "cell_type": "code",
   "execution_count": 76,
   "id": "ef89c137-73b3-49b7-9ce9-68fa74f54333",
   "metadata": {},
   "outputs": [
    {
     "name": "stderr",
     "output_type": "stream",
     "text": [
      "\n",
      "   | Name                               | Type                            | Params | Mode \n",
      "------------------------------------------------------------------------------------------------\n",
      "0  | loss                               | QuantileLoss                    | 0      | train\n",
      "1  | logging_metrics                    | ModuleList                      | 0      | train\n",
      "2  | input_embeddings                   | MultiEmbedding                  | 9      | train\n",
      "3  | prescalers                         | ModuleDict                      | 3.5 K  | train\n",
      "4  | static_variable_selection          | VariableSelectionNetwork        | 313 K  | train\n",
      "5  | encoder_variable_selection         | VariableSelectionNetwork        | 841 K  | train\n",
      "6  | decoder_variable_selection         | VariableSelectionNetwork        | 841 K  | train\n",
      "7  | static_context_variable_selection  | GatedResidualNetwork            | 103 K  | train\n",
      "8  | static_context_initial_hidden_lstm | GatedResidualNetwork            | 103 K  | train\n",
      "9  | static_context_initial_cell_lstm   | GatedResidualNetwork            | 103 K  | train\n",
      "10 | static_context_enrichment          | GatedResidualNetwork            | 103 K  | train\n",
      "11 | lstm_encoder                       | LSTM                            | 206 K  | train\n",
      "12 | lstm_decoder                       | LSTM                            | 206 K  | train\n",
      "13 | post_lstm_gate_encoder             | GatedLinearUnit                 | 51.5 K | train\n",
      "14 | post_lstm_add_norm_encoder         | AddNorm                         | 320    | train\n",
      "15 | static_enrichment                  | GatedResidualNetwork            | 128 K  | train\n",
      "16 | multihead_attn                     | InterpretableMultiHeadAttention | 64.4 K | train\n",
      "17 | post_attn_gate_norm                | GateAddNorm                     | 51.8 K | train\n",
      "18 | pos_wise_ff                        | GatedResidualNetwork            | 103 K  | train\n",
      "19 | pre_output_gate_norm               | GateAddNorm                     | 51.8 K | train\n",
      "20 | output_layer                       | Linear                          | 483    | train\n",
      "------------------------------------------------------------------------------------------------\n",
      "3.3 M     Trainable params\n",
      "0         Non-trainable params\n",
      "3.3 M     Total params\n",
      "13.087    Total estimated model params size (MB)\n",
      "367       Modules in train mode\n",
      "0         Modules in eval mode\n"
     ]
    },
    {
     "data": {
      "application/vnd.jupyter.widget-view+json": {
       "model_id": "41fbe30d2f9540c5b9f269765095f174",
       "version_major": 2,
       "version_minor": 0
      },
      "text/plain": [
       "Sanity Checking: |          | 0/? [00:00<?, ?it/s]"
      ]
     },
     "metadata": {},
     "output_type": "display_data"
    },
    {
     "name": "stderr",
     "output_type": "stream",
     "text": [
      "/opt/anaconda3/lib/python3.12/site-packages/lightning/pytorch/trainer/connectors/data_connector.py:425: The 'val_dataloader' does not have many workers which may be a bottleneck. Consider increasing the value of the `num_workers` argument` to `num_workers=7` in the `DataLoader` to improve performance.\n",
      "/opt/anaconda3/lib/python3.12/site-packages/lightning/pytorch/trainer/connectors/data_connector.py:425: The 'train_dataloader' does not have many workers which may be a bottleneck. Consider increasing the value of the `num_workers` argument` to `num_workers=7` in the `DataLoader` to improve performance.\n"
     ]
    },
    {
     "data": {
      "application/vnd.jupyter.widget-view+json": {
       "model_id": "81637b438cbe4f688b37b5157c2f381e",
       "version_major": 2,
       "version_minor": 0
      },
      "text/plain": [
       "Training: |          | 0/? [00:00<?, ?it/s]"
      ]
     },
     "metadata": {},
     "output_type": "display_data"
    },
    {
     "data": {
      "application/vnd.jupyter.widget-view+json": {
       "model_id": "22da0eba4e3e4e729adc8f3136e72dd3",
       "version_major": 2,
       "version_minor": 0
      },
      "text/plain": [
       "Validation: |          | 0/? [00:00<?, ?it/s]"
      ]
     },
     "metadata": {},
     "output_type": "display_data"
    },
    {
     "name": "stderr",
     "output_type": "stream",
     "text": [
      "Metric val_loss improved. New best score: 0.298\n"
     ]
    },
    {
     "data": {
      "application/vnd.jupyter.widget-view+json": {
       "model_id": "d513ae4682634bf9872fdcab64aba8b6",
       "version_major": 2,
       "version_minor": 0
      },
      "text/plain": [
       "Validation: |          | 0/? [00:00<?, ?it/s]"
      ]
     },
     "metadata": {},
     "output_type": "display_data"
    },
    {
     "name": "stderr",
     "output_type": "stream",
     "text": [
      "Metric val_loss improved by 0.153 >= min_delta = 0.0001. New best score: 0.145\n"
     ]
    },
    {
     "data": {
      "application/vnd.jupyter.widget-view+json": {
       "model_id": "ad435461a5094fcdb477ff76e315a4ab",
       "version_major": 2,
       "version_minor": 0
      },
      "text/plain": [
       "Validation: |          | 0/? [00:00<?, ?it/s]"
      ]
     },
     "metadata": {},
     "output_type": "display_data"
    },
    {
     "name": "stderr",
     "output_type": "stream",
     "text": [
      "Metric val_loss improved by 0.097 >= min_delta = 0.0001. New best score: 0.048\n"
     ]
    },
    {
     "data": {
      "application/vnd.jupyter.widget-view+json": {
       "model_id": "a60b22c25d11439a9f8bfb969cdfe9ff",
       "version_major": 2,
       "version_minor": 0
      },
      "text/plain": [
       "Validation: |          | 0/? [00:00<?, ?it/s]"
      ]
     },
     "metadata": {},
     "output_type": "display_data"
    },
    {
     "name": "stderr",
     "output_type": "stream",
     "text": [
      "Metric val_loss improved by 0.004 >= min_delta = 0.0001. New best score: 0.044\n"
     ]
    },
    {
     "data": {
      "application/vnd.jupyter.widget-view+json": {
       "model_id": "5a82bd7d0427410eaa0f731cbcbdb659",
       "version_major": 2,
       "version_minor": 0
      },
      "text/plain": [
       "Validation: |          | 0/? [00:00<?, ?it/s]"
      ]
     },
     "metadata": {},
     "output_type": "display_data"
    },
    {
     "name": "stderr",
     "output_type": "stream",
     "text": [
      "Metric val_loss improved by 0.008 >= min_delta = 0.0001. New best score: 0.036\n"
     ]
    },
    {
     "data": {
      "application/vnd.jupyter.widget-view+json": {
       "model_id": "8181a993b887443c8ec36cf596c19312",
       "version_major": 2,
       "version_minor": 0
      },
      "text/plain": [
       "Validation: |          | 0/? [00:00<?, ?it/s]"
      ]
     },
     "metadata": {},
     "output_type": "display_data"
    },
    {
     "data": {
      "application/vnd.jupyter.widget-view+json": {
       "model_id": "e48e4b0b7c56431aa634836ce864f417",
       "version_major": 2,
       "version_minor": 0
      },
      "text/plain": [
       "Validation: |          | 0/? [00:00<?, ?it/s]"
      ]
     },
     "metadata": {},
     "output_type": "display_data"
    },
    {
     "name": "stderr",
     "output_type": "stream",
     "text": [
      "Metric val_loss improved by 0.003 >= min_delta = 0.0001. New best score: 0.033\n"
     ]
    },
    {
     "data": {
      "application/vnd.jupyter.widget-view+json": {
       "model_id": "abf663589eb748f0b68d489bcfdfa580",
       "version_major": 2,
       "version_minor": 0
      },
      "text/plain": [
       "Validation: |          | 0/? [00:00<?, ?it/s]"
      ]
     },
     "metadata": {},
     "output_type": "display_data"
    },
    {
     "data": {
      "application/vnd.jupyter.widget-view+json": {
       "model_id": "41a49057589c4c25bbea57151aef88bb",
       "version_major": 2,
       "version_minor": 0
      },
      "text/plain": [
       "Validation: |          | 0/? [00:00<?, ?it/s]"
      ]
     },
     "metadata": {},
     "output_type": "display_data"
    },
    {
     "name": "stderr",
     "output_type": "stream",
     "text": [
      "Metric val_loss improved by 0.003 >= min_delta = 0.0001. New best score: 0.030\n"
     ]
    },
    {
     "data": {
      "application/vnd.jupyter.widget-view+json": {
       "model_id": "7d713eb7f4c14e44ae429a755f1f88d5",
       "version_major": 2,
       "version_minor": 0
      },
      "text/plain": [
       "Validation: |          | 0/? [00:00<?, ?it/s]"
      ]
     },
     "metadata": {},
     "output_type": "display_data"
    },
    {
     "data": {
      "application/vnd.jupyter.widget-view+json": {
       "model_id": "fc674c7acc974c6192320595848874d4",
       "version_major": 2,
       "version_minor": 0
      },
      "text/plain": [
       "Validation: |          | 0/? [00:00<?, ?it/s]"
      ]
     },
     "metadata": {},
     "output_type": "display_data"
    },
    {
     "name": "stderr",
     "output_type": "stream",
     "text": [
      "Metric val_loss improved by 0.001 >= min_delta = 0.0001. New best score: 0.029\n"
     ]
    },
    {
     "data": {
      "application/vnd.jupyter.widget-view+json": {
       "model_id": "9906341b9a404ebba60a6403eee7a03f",
       "version_major": 2,
       "version_minor": 0
      },
      "text/plain": [
       "Validation: |          | 0/? [00:00<?, ?it/s]"
      ]
     },
     "metadata": {},
     "output_type": "display_data"
    },
    {
     "data": {
      "application/vnd.jupyter.widget-view+json": {
       "model_id": "d9c38a0436ef47f9b2e1d58019aec62c",
       "version_major": 2,
       "version_minor": 0
      },
      "text/plain": [
       "Validation: |          | 0/? [00:00<?, ?it/s]"
      ]
     },
     "metadata": {},
     "output_type": "display_data"
    },
    {
     "name": "stderr",
     "output_type": "stream",
     "text": [
      "Metric val_loss improved by 0.001 >= min_delta = 0.0001. New best score: 0.028\n"
     ]
    },
    {
     "data": {
      "application/vnd.jupyter.widget-view+json": {
       "model_id": "a32f182c25d04648ac9a77a156722eed",
       "version_major": 2,
       "version_minor": 0
      },
      "text/plain": [
       "Validation: |          | 0/? [00:00<?, ?it/s]"
      ]
     },
     "metadata": {},
     "output_type": "display_data"
    },
    {
     "data": {
      "application/vnd.jupyter.widget-view+json": {
       "model_id": "f3f9de14633c4243a5bbdd1b34e645d2",
       "version_major": 2,
       "version_minor": 0
      },
      "text/plain": [
       "Validation: |          | 0/? [00:00<?, ?it/s]"
      ]
     },
     "metadata": {},
     "output_type": "display_data"
    },
    {
     "name": "stderr",
     "output_type": "stream",
     "text": [
      "Metric val_loss improved by 0.004 >= min_delta = 0.0001. New best score: 0.024\n"
     ]
    },
    {
     "data": {
      "application/vnd.jupyter.widget-view+json": {
       "model_id": "613e351c88744755b03a6373d41f1de2",
       "version_major": 2,
       "version_minor": 0
      },
      "text/plain": [
       "Validation: |          | 0/? [00:00<?, ?it/s]"
      ]
     },
     "metadata": {},
     "output_type": "display_data"
    },
    {
     "data": {
      "application/vnd.jupyter.widget-view+json": {
       "model_id": "4c41bf313ee54c70a2ed345196af30cb",
       "version_major": 2,
       "version_minor": 0
      },
      "text/plain": [
       "Validation: |          | 0/? [00:00<?, ?it/s]"
      ]
     },
     "metadata": {},
     "output_type": "display_data"
    },
    {
     "data": {
      "application/vnd.jupyter.widget-view+json": {
       "model_id": "d4aafe66957e4902adf2b2bc8b936111",
       "version_major": 2,
       "version_minor": 0
      },
      "text/plain": [
       "Validation: |          | 0/? [00:00<?, ?it/s]"
      ]
     },
     "metadata": {},
     "output_type": "display_data"
    },
    {
     "data": {
      "application/vnd.jupyter.widget-view+json": {
       "model_id": "95b050d606ef4960bce7c2afd83e2bfa",
       "version_major": 2,
       "version_minor": 0
      },
      "text/plain": [
       "Validation: |          | 0/? [00:00<?, ?it/s]"
      ]
     },
     "metadata": {},
     "output_type": "display_data"
    },
    {
     "name": "stderr",
     "output_type": "stream",
     "text": [
      "Metric val_loss improved by 0.002 >= min_delta = 0.0001. New best score: 0.022\n"
     ]
    },
    {
     "data": {
      "application/vnd.jupyter.widget-view+json": {
       "model_id": "ada0d34721aa413eaacd67c6eb9c3bfa",
       "version_major": 2,
       "version_minor": 0
      },
      "text/plain": [
       "Validation: |          | 0/? [00:00<?, ?it/s]"
      ]
     },
     "metadata": {},
     "output_type": "display_data"
    },
    {
     "data": {
      "application/vnd.jupyter.widget-view+json": {
       "model_id": "ff311c3a70fc4c8c9f306b1128873b50",
       "version_major": 2,
       "version_minor": 0
      },
      "text/plain": [
       "Validation: |          | 0/? [00:00<?, ?it/s]"
      ]
     },
     "metadata": {},
     "output_type": "display_data"
    },
    {
     "data": {
      "application/vnd.jupyter.widget-view+json": {
       "model_id": "6ebc4e29d8dd43f5a8aa64baa8f1b105",
       "version_major": 2,
       "version_minor": 0
      },
      "text/plain": [
       "Validation: |          | 0/? [00:00<?, ?it/s]"
      ]
     },
     "metadata": {},
     "output_type": "display_data"
    },
    {
     "data": {
      "application/vnd.jupyter.widget-view+json": {
       "model_id": "da94e74fa9ce42c0ade3176060dc0bf5",
       "version_major": 2,
       "version_minor": 0
      },
      "text/plain": [
       "Validation: |          | 0/? [00:00<?, ?it/s]"
      ]
     },
     "metadata": {},
     "output_type": "display_data"
    },
    {
     "name": "stderr",
     "output_type": "stream",
     "text": [
      "Metric val_loss improved by 0.002 >= min_delta = 0.0001. New best score: 0.020\n"
     ]
    },
    {
     "data": {
      "application/vnd.jupyter.widget-view+json": {
       "model_id": "02ccf7b6a92a4dacb8eaffffc3168c0b",
       "version_major": 2,
       "version_minor": 0
      },
      "text/plain": [
       "Validation: |          | 0/? [00:00<?, ?it/s]"
      ]
     },
     "metadata": {},
     "output_type": "display_data"
    },
    {
     "data": {
      "application/vnd.jupyter.widget-view+json": {
       "model_id": "ac2578ba69784fa9917939917958c98c",
       "version_major": 2,
       "version_minor": 0
      },
      "text/plain": [
       "Validation: |          | 0/? [00:00<?, ?it/s]"
      ]
     },
     "metadata": {},
     "output_type": "display_data"
    },
    {
     "name": "stderr",
     "output_type": "stream",
     "text": [
      "Metric val_loss improved by 0.000 >= min_delta = 0.0001. New best score: 0.019\n"
     ]
    },
    {
     "data": {
      "application/vnd.jupyter.widget-view+json": {
       "model_id": "5444390027b742879cae0e810f68f278",
       "version_major": 2,
       "version_minor": 0
      },
      "text/plain": [
       "Validation: |          | 0/? [00:00<?, ?it/s]"
      ]
     },
     "metadata": {},
     "output_type": "display_data"
    },
    {
     "data": {
      "application/vnd.jupyter.widget-view+json": {
       "model_id": "ea5da0fac35e4697849281de04a0a255",
       "version_major": 2,
       "version_minor": 0
      },
      "text/plain": [
       "Validation: |          | 0/? [00:00<?, ?it/s]"
      ]
     },
     "metadata": {},
     "output_type": "display_data"
    },
    {
     "data": {
      "application/vnd.jupyter.widget-view+json": {
       "model_id": "81b12ad2eb764cb8a643c58001b50f0c",
       "version_major": 2,
       "version_minor": 0
      },
      "text/plain": [
       "Validation: |          | 0/? [00:00<?, ?it/s]"
      ]
     },
     "metadata": {},
     "output_type": "display_data"
    },
    {
     "data": {
      "application/vnd.jupyter.widget-view+json": {
       "model_id": "5a969975cf5c46479fc61f9e48c7112a",
       "version_major": 2,
       "version_minor": 0
      },
      "text/plain": [
       "Validation: |          | 0/? [00:00<?, ?it/s]"
      ]
     },
     "metadata": {},
     "output_type": "display_data"
    },
    {
     "name": "stderr",
     "output_type": "stream",
     "text": [
      "Metric val_loss improved by 0.002 >= min_delta = 0.0001. New best score: 0.017\n"
     ]
    },
    {
     "data": {
      "application/vnd.jupyter.widget-view+json": {
       "model_id": "f9912af5642847cda2be074cf86d7165",
       "version_major": 2,
       "version_minor": 0
      },
      "text/plain": [
       "Validation: |          | 0/? [00:00<?, ?it/s]"
      ]
     },
     "metadata": {},
     "output_type": "display_data"
    },
    {
     "data": {
      "application/vnd.jupyter.widget-view+json": {
       "model_id": "0ff3610ceb454d19bfaa7d82e6863db1",
       "version_major": 2,
       "version_minor": 0
      },
      "text/plain": [
       "Validation: |          | 0/? [00:00<?, ?it/s]"
      ]
     },
     "metadata": {},
     "output_type": "display_data"
    },
    {
     "data": {
      "application/vnd.jupyter.widget-view+json": {
       "model_id": "98523d77ef07444bb84583fbe68b6c16",
       "version_major": 2,
       "version_minor": 0
      },
      "text/plain": [
       "Validation: |          | 0/? [00:00<?, ?it/s]"
      ]
     },
     "metadata": {},
     "output_type": "display_data"
    },
    {
     "data": {
      "application/vnd.jupyter.widget-view+json": {
       "model_id": "882508224a25433bb9a7ac8c6d32711e",
       "version_major": 2,
       "version_minor": 0
      },
      "text/plain": [
       "Validation: |          | 0/? [00:00<?, ?it/s]"
      ]
     },
     "metadata": {},
     "output_type": "display_data"
    },
    {
     "data": {
      "application/vnd.jupyter.widget-view+json": {
       "model_id": "bd84d9ebd0a64b1ca8b4bc658431867b",
       "version_major": 2,
       "version_minor": 0
      },
      "text/plain": [
       "Validation: |          | 0/? [00:00<?, ?it/s]"
      ]
     },
     "metadata": {},
     "output_type": "display_data"
    },
    {
     "name": "stderr",
     "output_type": "stream",
     "text": [
      "Monitored metric val_loss did not improve in the last 5 records. Best score: 0.017. Signaling Trainer to stop.\n"
     ]
    }
   ],
   "source": [
    "trainer.fit(tft, train_dataloader_combined, val_dataloader_combined)"
   ]
  },
  {
   "cell_type": "markdown",
   "id": "6da84c85-1c36-410d-9c38-0aaa4db311c1",
   "metadata": {},
   "source": [
    "### Model Training Saved"
   ]
  },
  {
   "cell_type": "code",
   "execution_count": 78,
   "id": "d3d313b1-b843-41bd-b16a-368614e2970c",
   "metadata": {},
   "outputs": [
    {
     "name": "stdout",
     "output_type": "stream",
     "text": [
      "lightning_logs/lightning_logs/version_0/checkpoints/epoch=33-step=2822.ckpt\n"
     ]
    }
   ],
   "source": [
    "# Model Saved\n",
    "best_model_path = trainer.checkpoint_callback.best_model_path\n",
    "print(best_model_path)\n"
   ]
  },
  {
   "cell_type": "code",
   "execution_count": 79,
   "id": "507bfbb9-48df-4a7e-b4a6-265f0ea02453",
   "metadata": {},
   "outputs": [
    {
     "name": "stderr",
     "output_type": "stream",
     "text": [
      "/opt/anaconda3/lib/python3.12/site-packages/lightning/pytorch/utilities/parsing.py:209: Attribute 'loss' is an instance of `nn.Module` and is already saved during checkpointing. It is recommended to ignore them using `self.save_hyperparameters(ignore=['loss'])`.\n",
      "/opt/anaconda3/lib/python3.12/site-packages/lightning/pytorch/utilities/parsing.py:209: Attribute 'logging_metrics' is an instance of `nn.Module` and is already saved during checkpointing. It is recommended to ignore them using `self.save_hyperparameters(ignore=['logging_metrics'])`.\n"
     ]
    },
    {
     "name": "stdout",
     "output_type": "stream",
     "text": [
      "zsh:1: no matches found: lightning_logs/lightning_logs_1/version_0/*\n"
     ]
    }
   ],
   "source": [
    "best_tft = TemporalFusionTransformer.load_from_checkpoint(best_model_path)\n",
    "\n",
    "#zip and download the model\n",
    "!zip  -r model.zip lightning_logs/lightning_logs_1/version_0/*"
   ]
  },
  {
   "cell_type": "code",
   "execution_count": 80,
   "id": "ecd68691-6469-422e-8130-949b8860277c",
   "metadata": {},
   "outputs": [
    {
     "name": "stderr",
     "output_type": "stream",
     "text": [
      "GPU available: True (mps), used: True\n",
      "TPU available: False, using: 0 TPU cores\n",
      "HPU available: False, using: 0 HPUs\n",
      "/opt/anaconda3/lib/python3.12/site-packages/lightning/pytorch/trainer/connectors/data_connector.py:425: The 'predict_dataloader' does not have many workers which may be a bottleneck. Consider increasing the value of the `num_workers` argument` to `num_workers=7` in the `DataLoader` to improve performance.\n"
     ]
    },
    {
     "name": "stdout",
     "output_type": "stream",
     "text": [
      "0.02944553643465042\n"
     ]
    }
   ],
   "source": [
    "# Évaluation sur les données de validation\n",
    "val_evaluation_dataloader = val_dataloader_combined\n",
    "\n",
    "actuals = torch.cat([y[0] for x, y in iter(val_evaluation_dataloader)]).to(\"mps\")\n",
    "predictions = best_tft.predict(val_evaluation_dataloader)\n",
    "\n",
    "# Calcul de la perte moyenne (p50)\n",
    "print((actuals - predictions).abs().nanmean().item())"
   ]
  },
  {
   "cell_type": "markdown",
   "id": "bcc1215f-e303-4b42-b64a-f6ad54fa27c2",
   "metadata": {},
   "source": [
    "### Prediction with Test"
   ]
  },
  {
   "cell_type": "code",
   "execution_count": 82,
   "id": "d88aba1d-8a6f-4a70-8fe0-b4eb571fedff",
   "metadata": {},
   "outputs": [
    {
     "name": "stderr",
     "output_type": "stream",
     "text": [
      "GPU available: True (mps), used: True\n",
      "TPU available: False, using: 0 TPU cores\n",
      "HPU available: False, using: 0 HPUs\n",
      "/opt/anaconda3/lib/python3.12/site-packages/lightning/pytorch/trainer/connectors/data_connector.py:425: The 'predict_dataloader' does not have many workers which may be a bottleneck. Consider increasing the value of the `num_workers` argument` to `num_workers=7` in the `DataLoader` to improve performance.\n"
     ]
    },
    {
     "name": "stdout",
     "output_type": "stream",
     "text": [
      "('output', 'x', 'index', 'decoder_lengths', 'y')\n"
     ]
    }
   ],
   "source": [
    "raw_predictions = best_tft.predict(test_dataloader_combined, mode=\"raw\", return_x=True)\n",
    "print(raw_predictions._fields)"
   ]
  },
  {
   "cell_type": "code",
   "execution_count": 83,
   "id": "88a024c1-9739-426a-b151-2989dc3e9d15",
   "metadata": {},
   "outputs": [
    {
     "data": {
      "image/png": "[encoded data removed]",
      "text/plain": [
       "<Figure size 1000x400 with 2 Axes>"
      ]
     },
     "metadata": {},
     "output_type": "display_data"
    }
   ],
   "source": [
    "import pandas as pd\n",
    "import matplotlib.pyplot as plt\n",
    "import numpy as np\n",
    "\n",
    "# Générer des prédictions\n",
    "#raw_predictions, x = tft.predict(val_dataloader_combined, mode=\"raw\", return_x=True)\n",
    "\n",
    "for idx in range(1):  # plot all 5 consumers\n",
    "    fig, ax = plt.subplots(figsize=(10, 4))\n",
    "    best_tft.plot_prediction(raw_predictions.x, raw_predictions.output, idx=idx, add_loss_to_title=RMSE(),ax=ax)\n",
    "    ax.set_title(f\"Test Set Prediction - Augmented Data + GMM \", fontsize=14)"
   ]
  },
  {
   "cell_type": "code",
   "execution_count": null,
   "id": "aff795f2-07a8-41ea-b412-a897b9b12038",
   "metadata": {},
   "outputs": [],
   "source": []
  },
  {
   "cell_type": "code",
   "execution_count": 90,
   "id": "f3fbd9ca-d862-4f07-96c6-c4019c4093a2",
   "metadata": {},
   "outputs": [
    {
     "name": "stderr",
     "output_type": "stream",
     "text": [
      "GPU available: True (mps), used: True\n",
      "TPU available: False, using: 0 TPU cores\n",
      "HPU available: False, using: 0 HPUs\n",
      "/opt/anaconda3/lib/python3.12/site-packages/lightning/pytorch/trainer/connectors/data_connector.py:425: The 'predict_dataloader' does not have many workers which may be a bottleneck. Consider increasing the value of the `num_workers` argument` to `num_workers=7` in the `DataLoader` to improve performance.\n"
     ]
    },
    {
     "name": "stdout",
     "output_type": "stream",
     "text": [
      "✅ Mean Squared Error (MSE)      : 0.0019\n",
      "✅ Root Mean Squared Error (RMSE): 0.0433\n",
      "✅ Mean Absolute Error (MAE)     : 0.0294\n",
      "✅ Modified MAPE (mMAPE)         : 3.16%\n",
      "✅ R2 Score                      : 0.9977\n"
     ]
    }
   ],
   "source": [
    "import torch\n",
    "import numpy as np\n",
    "import pandas as pd\n",
    "from sklearn.metrics import mean_squared_error, mean_absolute_error, r2_score\n",
    "\n",
    "# Fonction de mMAPE robuste (évite division par zéro)\n",
    "def modified_mape(y_true, y_pred, epsilon=1e-8):\n",
    "    return np.mean(np.abs((y_true - y_pred) / (np.abs(y_true) + epsilon))) * 100\n",
    "\n",
    "# Récupération des valeurs réelles (y_true) et prédites (y_pred)\n",
    "val_evaluation_dataloader = val_dataloader_combined\n",
    "\n",
    "# Prédictions avec le meilleur modèle TFT\n",
    "actuals = torch.cat([y[0] for x, y in iter(val_evaluation_dataloader)]).cpu().numpy().flatten()\n",
    "predictions = best_tft.predict(val_evaluation_dataloader).cpu().numpy().flatten()\n",
    "\n",
    "# Calcul des métriques\n",
    "mse = mean_squared_error(actuals, predictions)\n",
    "rmse = np.sqrt(mse)\n",
    "mae = mean_absolute_error(actuals, predictions)\n",
    "mmape = modified_mape(actuals, predictions)\n",
    "r2 = r2_score(actuals, predictions)\n",
    "\n",
    "# Affichage\n",
    "print(f\"✅ Mean Squared Error (MSE)      : {mse:.4f}\")\n",
    "print(f\"✅ Root Mean Squared Error (RMSE): {rmse:.4f}\")\n",
    "print(f\"✅ Mean Absolute Error (MAE)     : {mae:.4f}\")\n",
    "print(f\"✅ Modified MAPE (mMAPE)         : {mmape:.2f}%\")\n",
    "print(f\"✅ R2 Score                      : {r2:.4f}\")\n"
   ]
  },
  {
   "cell_type": "code",
   "execution_count": 86,
   "id": "1bec95bc-5175-44ed-b711-7218da5612ed",
   "metadata": {},
   "outputs": [
    {
     "data": {
      "text/plain": [
       "{'attention': <Figure size 640x480 with 1 Axes>,\n",
       " 'static_variables': <Figure size 700x300 with 1 Axes>,\n",
       " 'encoder_variables': <Figure size 700x400 with 1 Axes>,\n",
       " 'decoder_variables': <Figure size 700x400 with 1 Axes>}"
      ]
     },
     "execution_count": 86,
     "metadata": {},
     "output_type": "execute_result"
    },
    {
     "data": {
      "image/png": "[encoded data removed]",
      "text/plain": [
       "<Figure size 640x480 with 1 Axes>"
      ]
     },
     "metadata": {},
     "output_type": "display_data"
    },
    {
     "data": {
      "image/png": "[encoded data removed]",
      "text/plain": [
       "<Figure size 700x300 with 1 Axes>"
      ]
     },
     "metadata": {},
     "output_type": "display_data"
    },
    {
     "data": {
      "image/png": "[encoded data removed]",
      "text/plain": [
       "<Figure size 700x400 with 1 Axes>"
      ]
     },
     "metadata": {},
     "output_type": "display_data"
    },
    {
     "data": {
      "image/png": "[encoded data removed]",
      "text/plain": [
       "<Figure size 700x400 with 1 Axes>"
      ]
     },
     "metadata": {},
     "output_type": "display_data"
    }
   ],
   "source": [
    "interpretation = best_tft.interpret_output(raw_predictions.output, reduction=\"sum\")\n",
    "best_tft.plot_interpretation(interpretation)"
   ]
  },
  {
   "cell_type": "code",
   "execution_count": null,
   "id": "2a071fee-9477-4a7a-b7ad-c85aa28f8787",
   "metadata": {},
   "outputs": [],
   "source": []
  },
  {
   "cell_type": "code",
   "execution_count": null,
   "id": "c2967ba0-81e8-42e7-870e-32def30a133f",
   "metadata": {},
   "outputs": [],
   "source": []
  }
 ],
 "metadata": {
  "kernelspec": {
   "display_name": "Python [conda env:base] *",
   "language": "python",
   "name": "conda-base-py"
  },
  "language_info": {
   "codemirror_mode": {
    "name": "ipython",
    "version": 3
   },
   "file_extension": ".py",
   "mimetype": "text/x-python",
   "name": "python",
   "nbconvert_exporter": "python",
   "pygments_lexer": "ipython3",
   "version": "3.12.7"
  }
 },
 "nbformat": 4,
 "nbformat_minor": 5
}
